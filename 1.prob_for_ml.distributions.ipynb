{
 "cells": [
  {
   "cell_type": "markdown",
   "metadata": {},
   "source": [
    "# How many people are required so that any two people in the group have the\n",
    "same birthday with at least a 50-50 chance?"
   ]
  },
  {
   "cell_type": "code",
   "execution_count": 4,
   "metadata": {},
   "outputs": [
    {
     "name": "stdout",
     "output_type": "stream",
     "text": [
      "n=2, 364/365, p=99.726, 1-p=0.274\n",
      "n=3, 363/365, p=99.180, 1-p=0.820\n",
      "n=4, 362/365, p=98.364, 1-p=1.636\n",
      "n=5, 361/365, p=97.286, 1-p=2.714\n",
      "n=6, 360/365, p=95.954, 1-p=4.046\n",
      "n=7, 359/365, p=94.376, 1-p=5.624\n",
      "n=8, 358/365, p=92.566, 1-p=7.434\n",
      "n=9, 357/365, p=90.538, 1-p=9.462\n",
      "n=10, 356/365, p=88.305, 1-p=11.695\n",
      "n=11, 355/365, p=85.886, 1-p=14.114\n",
      "n=12, 354/365, p=83.298, 1-p=16.702\n",
      "n=13, 353/365, p=80.559, 1-p=19.441\n",
      "n=14, 352/365, p=77.690, 1-p=22.310\n",
      "n=15, 351/365, p=74.710, 1-p=25.290\n",
      "n=16, 350/365, p=71.640, 1-p=28.360\n",
      "n=17, 349/365, p=68.499, 1-p=31.501\n",
      "n=18, 348/365, p=65.309, 1-p=34.691\n",
      "n=19, 347/365, p=62.088, 1-p=37.912\n",
      "n=20, 346/365, p=58.856, 1-p=41.144\n",
      "n=21, 345/365, p=55.631, 1-p=44.369\n",
      "n=22, 344/365, p=52.430, 1-p=47.570\n",
      "n=23, 343/365, p=49.270, 1-p=50.730\n",
      "n=24, 342/365, p=46.166, 1-p=53.834\n",
      "n=25, 341/365, p=43.130, 1-p=56.870\n",
      "n=26, 340/365, p=40.176, 1-p=59.824\n",
      "n=27, 339/365, p=37.314, 1-p=62.686\n",
      "n=28, 338/365, p=34.554, 1-p=65.446\n",
      "n=29, 337/365, p=31.903, 1-p=68.097\n",
      "n=30, 336/365, p=29.368, 1-p=70.632\n"
     ]
    }
   ],
   "source": [
    "n = 30            # group size\n",
    "days = 365        # days in a year\n",
    "p = 1.0           # probability of no two persons have same birthday\n",
    "for i in range(1,n):\n",
    "    available_days = days - i\n",
    "    p *= available_days / days\n",
    "    print('n=%d, %d/%d, p=%.3f, 1-p=%.3f' % (i+1, available_days, days, p*100, (1-p)*100))\n",
    "    "
   ]
  },
  {
   "cell_type": "markdown",
   "metadata": {},
   "source": [
    "# Binomial Distribution\n",
    "The repetition of multiple independent Bernoulli trials is called a Bernoulli process. The performance of a machine learning algorithm on a binary classification problem can be analyzed as a Bernoulli process, where the prediction by the model on an example from a test set is a Bernoulli trial (correct or incorrect). The Binomial distribution summarizes the number\n",
    "of successes k in a given number of Bernoulli trials n, with a given probability of success for each trial p."
   ]
  },
  {
   "cell_type": "code",
   "execution_count": 19,
   "metadata": {},
   "outputs": [
    {
     "name": "stdout",
     "output_type": "stream",
     "text": [
      "Total Successes: 29\n"
     ]
    }
   ],
   "source": [
    "from numpy.random import binomial\n",
    "p = 0.3\n",
    "k = 100\n",
    "success = binomial(k, p)\n",
    "print('Total Successes: %d' % success)"
   ]
  },
  {
   "cell_type": "code",
   "execution_count": 27,
   "metadata": {},
   "outputs": [
    {
     "name": "stdout",
     "output_type": "stream",
     "text": [
      "Mean=30.000, Variance=21.000\n"
     ]
    }
   ],
   "source": [
    "#calculating moments\n",
    "from scipy.stats import binom\n",
    "p = 0.3\n",
    "k = 100\n",
    "#mean, var, _, _ = binom.stats(k, p, momemts='mvsk')\n",
    "print('Mean=%.3f, Variance=%.3f' %(mean, var))"
   ]
  },
  {
   "cell_type": "code",
   "execution_count": 28,
   "metadata": {},
   "outputs": [
    {
     "name": "stdout",
     "output_type": "stream",
     "text": [
      "P of 10 success: 0.000%\n",
      "P of 20 success: 0.758%\n",
      "P of 30 success: 8.678%\n",
      "P of 40 success: 0.849%\n",
      "P of 50 success: 0.001%\n",
      "P of 60 success: 0.000%\n",
      "P of 70 success: 0.000%\n",
      "P of 80 success: 0.000%\n",
      "P of 90 success: 0.000%\n"
     ]
    }
   ],
   "source": [
    "#using probability mass function for binomial\n",
    "dist = binom(k, p)\n",
    "for n in range(10, 100, 10):\n",
    "    print('P of %d success: %.3f%%' % (n, dist.pmf(n)*100))\n"
   ]
  },
  {
   "cell_type": "code",
   "execution_count": 29,
   "metadata": {},
   "outputs": [
    {
     "name": "stdout",
     "output_type": "stream",
     "text": [
      "P of 10 or fewer success: 0.000%\n",
      "P of 20 or fewer success: 1.646%\n",
      "P of 30 or fewer success: 54.912%\n",
      "P of 40 or fewer success: 98.750%\n",
      "P of 50 or fewer success: 99.999%\n",
      "P of 60 or fewer success: 100.000%\n",
      "P of 70 or fewer success: 100.000%\n",
      "P of 80 or fewer success: 100.000%\n",
      "P of 90 or fewer success: 100.000%\n"
     ]
    }
   ],
   "source": [
    "# using cumulative distribution function\n",
    "for n in range(10, 100, 10):\n",
    "    print(\"P of %d or fewer success: %.3f%%\" % (n, dist.cdf(n)*100))"
   ]
  },
  {
   "cell_type": "markdown",
   "metadata": {},
   "source": [
    "# Multinomial Distribution\n",
    "The repetition of multiple independent Multinoulli trials will follow a multinomial distribution.\n",
    "The multinomial distribution is a generalization of the binomial distribution for a discrete variable with K outcomes. A common example of the multinomial distribution is the occurrence counts of words in a text document, from the field of natural language processing. A multinomial distribution is summarized by a discrete random variable with K outcomes, a probability for each outcome from p1 to pK, and n successive trials.\n",
    "\n",
    "Discrete probability distributions are used in machine learning, notably in \n",
    "- the modeling of binary and multiclass classification problems, \n",
    "- in evaluating the performance for binary classification models, such as the calculation of confidence intervals, \n",
    "- and in the modeling of the distribution of words in text for natural language processing. \n",
    "\n",
    "Knowledge of discrete probability distributions is required in the choice of activation functions in the output layer of deep learning neural networks for classification tasks and selecting an appropriate loss function.\n",
    "\n",
    "- PMF: Probability Mass Function, returns the probability of a given outcome.\n",
    "- CDF: Cumulative Distribution Function, returns the probability of a value less than or equal to a given outcome.\n",
    "- PPF: Percent-Point Function, returns a discrete value that is less than or equal to the given probability."
   ]
  },
  {
   "cell_type": "markdown",
   "metadata": {},
   "source": [
    "# Binomial distribution\n",
    "The repetition of multiple independent Bernoulli trials is called a Bernoulli process. The outcomes of a Bernoulli process will follow a Binomial distribution. As such, the Bernoulli distribution would be a Binomial distribution with a single trial. \n",
    "\n",
    "Some common examples of\n",
    "Bernoulli processes include:\n",
    "= A sequence of independent coin flips.\n",
    "= A sequence of independent births.\n",
    "\n",
    "The performance of a machine learning algorithm on a binary classification problem can be analyzed as a Bernoulli process, where the prediction by the model on an example from a test set is a Bernoulli trial (correct or incorrect). \n",
    "\n",
    "The Binomial distribution summarizes the number of successes k in a given number of Bernoulli trials n, with a given probability of success for each trial p."
   ]
  },
  {
   "cell_type": "markdown",
   "metadata": {},
   "source": [
    "# Continuous Probability Distributions\n",
    "The normal distribution is also called the Gaussian distribution (named for Carl Friedrich Gauss) or the bell curve distribution. The distribution covers the probability of real-valued events from many different problem domains, making it a common and well-known distribution, hence the name normal.\n",
    "\n",
    "If the samples of observations of a random variable are normally distributed, then they can be summarized by just the mean and variance, calculated directly on the samples. We can calculate the probability of each observation using the probability density function."
   ]
  },
  {
   "cell_type": "code",
   "execution_count": 5,
   "metadata": {},
   "outputs": [
    {
     "data": {
      "text/plain": [
       "array([52.0421453 , 43.61055762, 44.78240965, 45.20543275, 55.90187761,\n",
       "       39.10015381, 43.23200643, 50.28307163, 51.59797677, 41.04996558])"
      ]
     },
     "execution_count": 5,
     "metadata": {},
     "output_type": "execute_result"
    }
   ],
   "source": [
    "# sampling a normal distribution\n",
    "from numpy.random import normal\n",
    "mu = 50\n",
    "sigma = 5\n",
    "n = 10\n",
    "sample = normal(mu, sigma, n)\n",
    "sample"
   ]
  },
  {
   "cell_type": "code",
   "execution_count": 17,
   "metadata": {},
   "outputs": [
    {
     "data": {
      "image/png": "[encoded data removed]",
      "text/plain": [
       "<Figure size 432x288 with 1 Axes>"
      ]
     },
     "metadata": {
      "needs_background": "light"
     },
     "output_type": "display_data"
    },
    {
     "data": {
      "image/png": "[encoded data removed]",
      "text/plain": [
       "<Figure size 432x288 with 1 Axes>"
      ]
     },
     "metadata": {
      "needs_background": "light"
     },
     "output_type": "display_data"
    }
   ],
   "source": [
    "# pdf and cdf of norma; distribution\n",
    "from scipy.stats import norm\n",
    "from matplotlib import pyplot\n",
    "dist = norm(mu, sigma)\n",
    "values = [value for value in range(30,70, 1)]\n",
    "probs = [dist.pdf(value) for value in values]\n",
    "pyplot.plot(values, probs)\n",
    "pyplot.show()\n",
    "#cdf\n",
    "cprobs = [dist.cdf(value) for value in values]\n",
    "pyplot.plot(values, cprobs)\n",
    "pyplot.show()\n"
   ]
  },
  {
   "cell_type": "markdown",
   "metadata": {},
   "source": [
    "# Normal distribution heuristic \n",
    "The percentage of data covered by a given range by the number of standard deviations from the mean. It is called the 68-95-99.7 rule, which is the approximate percentage of the data covered by ranges defined by 1, 2, and 3 standard deviations from the mean. \n",
    "For example, in 50, 5 distribution, 95% of the data is covered by values that are 2 standard deviations from the mean, or 50 - (2*5) and 50+(2*5) or between 40 and 60. "
   ]
  },
  {
   "cell_type": "code",
   "execution_count": 22,
   "metadata": {},
   "outputs": [
    {
     "name": "stdout",
     "output_type": "stream",
     "text": [
      "Middle 95% between 40.2 and 59.8\n"
     ]
    }
   ],
   "source": [
    "# calculating the middle 95% range\n",
    "from scipy.stats import norm\n",
    "mu = 50\n",
    "sigma = 5\n",
    "dist = norm(mu, sigma)\n",
    "low_end = dist.ppf(0.025)\n",
    "high_end = dist.ppf(0.975)\n",
    "print('Middle 95%% between %.1f and %.1f' % (low_end, high_end))"
   ]
  },
  {
   "cell_type": "markdown",
   "metadata": {},
   "source": [
    "# Exponential distribution\n",
    "Few outcomes are the most likely with a rapid decrease in probability to all other outcomes. \n",
    "It is the continuous random variable equivalent to the geometric probability distribution for discrete random variables.\n",
    "Some examples of domains that have exponential distribution events include:\n",
    " The time between clicks on a Geiger counter.\n",
    " The time until the failure of a part.\n",
    " The time until the default of a loan.\n",
    "\n",
    "The distribution can be defined using one parameter: Scale (Beta): The mean and standard deviation of the distribution.\n",
    "fiSometimes the distribution is defined more formally with a parameter lambda or rate. The beta parameter is dened as the reciprocal of the lambda parameter \n",
    "-  Rate (lambda) = Rate of change in the distribution."
   ]
  },
  {
   "cell_type": "code",
   "execution_count": 25,
   "metadata": {},
   "outputs": [
    {
     "data": {
      "text/plain": [
       "array([  4.37191259, 116.2587923 ,   9.64877871, 162.88877828,\n",
       "       152.41958384,  64.85841584,   7.70475737,   4.31382852,\n",
       "        36.93246519,   6.36422018])"
      ]
     },
     "execution_count": 25,
     "metadata": {},
     "output_type": "execute_result"
    }
   ],
   "source": [
    "# sampling exponential distribution\n",
    "from numpy.random import exponential\n",
    "beta = 50\n",
    "n = 10\n",
    "sample = exponential(beta, n)\n",
    "sample"
   ]
  },
  {
   "cell_type": "code",
   "execution_count": 29,
   "metadata": {},
   "outputs": [
    {
     "data": {
      "image/png": "[encoded data removed]",
      "text/plain": [
       "<Figure size 432x288 with 1 Axes>"
      ]
     },
     "metadata": {
      "needs_background": "light"
     },
     "output_type": "display_data"
    },
    {
     "data": {
      "image/png": "[encoded data removed]",
      "text/plain": [
       "<Figure size 432x288 with 1 Axes>"
      ]
     },
     "metadata": {
      "needs_background": "light"
     },
     "output_type": "display_data"
    }
   ],
   "source": [
    "# pdf and cdf of exponential distribution\n",
    "from scipy.stats import expon\n",
    "from matplotlib import pyplot\n",
    "beta = 50\n",
    "dist = expon(beta)\n",
    "# plotting pdf\n",
    "values = [value for value in range(50, 70)]\n",
    "probs = [dist.pdf(value) for value in values]\n",
    "pyplot.plot(values, probs)\n",
    "pyplot.show()\n",
    "# plotting cdf\n",
    "cprobs = [dist.cdf(value) for value in values]\n",
    "pyplot.plot(values, cprobs)\n",
    "pyplot.show()"
   ]
  },
  {
   "cell_type": "markdown",
   "metadata": {},
   "source": [
    "# Pareto distribution\n",
    "Named after Vilfredo Pareto also knows as power-law distribution. \n",
    "Pareto principle (or 80/20 rule) which is a heuristic where 80% of the events are covered by 20% of the range of outcomes. \n",
    "The Pareto principle is just a heuristic for a specific Pareto distribution, specifically the Pareto Type II distribution. \n",
    "Some examples \n",
    "- The income of households in a country.\n",
    "- The total sales of books.\n",
    "- The scores by players on a sports team.\n",
    "\n",
    "The distribution can be defned using one parameter: Shape (alpha): The steepness of the decease in probability.\n",
    "Values for the shape parameter are often small, such as between 1 and 3. "
   ]
  },
  {
   "cell_type": "code",
   "execution_count": 42,
   "metadata": {},
   "outputs": [
    {
     "data": {
      "text/plain": [
       "array([3.38771906e-01, 1.96761921e+02, 2.08991470e-01, 3.91106122e-02,\n",
       "       7.18589428e+00, 2.73327005e-01, 7.50580050e-01, 1.05609479e+00,\n",
       "       3.48582369e+00, 4.77605297e-01])"
      ]
     },
     "execution_count": 42,
     "metadata": {},
     "output_type": "execute_result"
    }
   ],
   "source": [
    "#sample a pareto distriution\n",
    "from numpy.random import pareto\n",
    "alpha = 1.1\n",
    "n = 10\n",
    "sample = pareto(alpha, n)\n",
    "sample"
   ]
  },
  {
   "cell_type": "code",
   "execution_count": 49,
   "metadata": {},
   "outputs": [
    {
     "data": {
      "image/png": "[encoded data removed]",
      "text/plain": [
       "<Figure size 432x288 with 1 Axes>"
      ]
     },
     "metadata": {
      "needs_background": "light"
     },
     "output_type": "display_data"
    },
    {
     "data": {
      "image/png": "[encoded data removed]",
      "text/plain": [
       "<Figure size 432x288 with 1 Axes>"
      ]
     },
     "metadata": {
      "needs_background": "light"
     },
     "output_type": "display_data"
    }
   ],
   "source": [
    "# pdf and cdf of pareto distribution\n",
    "from scipy.stats import pareto\n",
    "from matplotlib import pyplot\n",
    "alpha = 1.5\n",
    "dist = pareto(alpha)\n",
    "# plotting pdf\n",
    "values = [value/10.0 for value in range(10, 100)]\n",
    "probs = [dist.pdf(value) for value in values]\n",
    "pyplot.plot(values, probs)\n",
    "pyplot.show()\n",
    "# plotting cdf\n",
    "cprobs = [dist.cdf(value) for value in values]\n",
    "pyplot.plot(values, cprobs)\n",
    "pyplot.show()"
   ]
  },
  {
   "cell_type": "markdown",
   "metadata": {},
   "source": [
    "# Density estimation\n",
    "Probability density is the relationship between observations and their probability. Some outcomes of a random variable will have low probability density and other outcomes will have a high probability density.\n",
    "\n",
    "First step is to check the density through histogram, histogram plots provide a fast and reliable way to visualize the probability density of a data sample.\n",
    "\n",
    "- Parametric probability density estimation involves selecting a common distribution and estimating the parameters for the density function from a data sample.\n",
    "- Nonparametric probability density estimation involves using a technique to fit a model to the arbitrary distribution of the data, like kernel density estimation."
   ]
  },
  {
   "cell_type": "code",
   "execution_count": 50,
   "metadata": {},
   "outputs": [
    {
     "data": {
      "image/png": "[encoded data removed]",
      "text/plain": [
       "<Figure size 432x288 with 1 Axes>"
      ]
     },
     "metadata": {
      "needs_background": "light"
     },
     "output_type": "display_data"
    }
   ],
   "source": [
    "# simulate a normal distribution and get histogram\n",
    "from matplotlib import pyplot\n",
    "from numpy.random import normal\n",
    "sample = normal(size = 1000)\n",
    "#plot the sample\n",
    "pyplot.hist(sample, bins=20)\n",
    "pyplot.show()"
   ]
  },
  {
   "cell_type": "markdown",
   "metadata": {},
   "source": [
    "# Parametric desnisty estimation\n",
    "\n",
    "Using predefined functions to summarize the relationship between observations  con\f",
    "gured with parameters, hence parametric. Once we have estimated the density, we can check if it is a good fit. \n",
    "- Plott the density function and compare the shape to the histogram.\n",
    "- Sample the density function and compare the generated sample to the real sample.\n",
    "- Use a statistical test to confirm the data fits the distribution."
   ]
  },
  {
   "cell_type": "code",
   "execution_count": 65,
   "metadata": {},
   "outputs": [
    {
     "name": "stdout",
     "output_type": "stream",
     "text": [
      "Sample mean: 50.456, Sample standardr deviation: 4.972\n"
     ]
    },
    {
     "data": {
      "image/png": "[encoded data removed]",
      "text/plain": [
       "<Figure size 432x288 with 1 Axes>"
      ]
     },
     "metadata": {
      "needs_background": "light"
     },
     "output_type": "display_data"
    }
   ],
   "source": [
    "from matplotlib import pyplot\n",
    "from numpy.random import normal\n",
    "from numpy import mean\n",
    "from numpy import std\n",
    "from scipy.stats import norm\n",
    "# genarate a random sample\n",
    "sample = normal(loc=50, scale=5, size=1000)\n",
    "# given this random sample, estimate the parameters\n",
    "sample_mean = mean(sample)\n",
    "sample_std = std(sample)\n",
    "print('Sample mean: %.3f, Sample standardr deviation: %.3f' %(sample_mean, sample_std))\n",
    "# Use estimated parameters to derive indicative distribution\n",
    "dist = norm(sample_mean, sample_std)\n",
    "# take sample from derived distribution\n",
    "values = [value for value in range(30, 70)]\n",
    "probs = [dist.pdf(value) for value in values]\n",
    "# plot the original sample histogram and the pdf of the derived sample from derived distribution\n",
    "pyplot.hist(sample, bins=20, density = True)\n",
    "pyplot.plot(values, probs)\n",
    "pyplot.show()"
   ]
  },
  {
   "cell_type": "markdown",
   "metadata": {},
   "source": [
    "It is possible that the data does match a common probability distribution, but requires a transformation before parametric density estimation. \n",
    "\n",
    "For example, outlier values may have the effect of giving incorrect estimates of the distribution parameters causing a poor fit to the data. These outliers should be removed prior to estimating the distribution parameters.\n",
    "\n",
    "If the data has a skew, transform the data prior to estimating the parameters, such as taking the log or square root, or more generally, using a power transform like the Box-Cox transform. \n",
    "\n",
    "- Loop Until Fit of Distribution to Data is Good Enough:\n",
    "1. Estimating distribution parameters\n",
    "2. Reviewing the resulting PDF against the data\n",
    "3. Transforming the data to better fit the distribution"
   ]
  },
  {
   "cell_type": "markdown",
   "metadata": {},
   "source": [
    "# Non-parametric Density Estimation\n",
    "\n",
    "In some cases, data has two peaks (bimodal distribution) or many peaks (multimodal distribution). In this case, an algorithm is used to approximate the probability distribution of the data without a pre-defined distribution, referred to as a nonparametric method. A nonparametric method might estimate the density using all observations in a random sample, in effect making all observations in the sample parameters. \n",
    "\n",
    "Most common nonparametric approach is called kernel smoothing, or kernel density estimation, KDE for short. \n",
    "\n",
    "A kernel is a mathematical function that returns a probability for a given value of a (new) random variable. The kernel effectively smooths or interpolates the probabilities across the range of outcomes for a random variable such that the sum of probabilities equals 1. \n",
    "The kernel function weights the contribution of observations from a data sample based on their relationship or distance to a given query sample for which the probability is requested. A parameter, called the smoothing parameter or the bandwidth, controls the scope, or window of observations, from the data sample that contributes to estimating the probability for a given sample. \n",
    "\n",
    "Kernel density estimation is also referred to as a Parzen-Rosenblatt window, or simply a Parzen window, after the developers of\n",
    "the method.\n",
    "\n",
    "- Smoothing Parameter (bandwidth): Parameter that controls the number of samples or window of samples used to estimate the probability for a new point.\n",
    "\n",
    "A large window may result in a coarse density with little details, whereas a small window may have too much detail and not be smooth or general enough to correctly cover new or unseen examples. \n",
    "\n",
    "The contribution of samples within the window can be shaped using different functions, sometimes referred to as basis functions, e.g. uniform normal, etc., with different effcts on the smoothness of the resulting density function.\n",
    "\n",
    "-  Basis Function (kernel): The function chosen used to control the contribution of samples in the dataset toward estimating the probability of a new point.\n",
    "\n",
    "It may be useful to experiment with different window sizes and contribution functions and evaluate the results against histograms of the data. "
   ]
  },
  {
   "cell_type": "code",
   "execution_count": 95,
   "metadata": {},
   "outputs": [
    {
     "data": {
      "image/png": "[encoded data removed]",
      "text/plain": [
       "<Figure size 432x288 with 1 Axes>"
      ]
     },
     "metadata": {
      "needs_background": "light"
     },
     "output_type": "display_data"
    }
   ],
   "source": [
    "from matplotlib import pyplot\n",
    "from numpy.random import normal\n",
    "from numpy import hstack\n",
    "#generating a bimodal sample\n",
    "sample1 = normal(loc=20, scale=5, size=300)\n",
    "sample2 = normal(loc=40, scale=5, size=700)\n",
    "sample = hstack((sample1, sample2))\n",
    "# plot the distribution\n",
    "pyplot.hist(sample, bins =50)\n",
    "pyplot.show()\n",
    "#sample - note sample is row vector"
   ]
  },
  {
   "cell_type": "code",
   "execution_count": 85,
   "metadata": {},
   "outputs": [
    {
     "data": {
      "text/plain": [
       "array([1, 3, 5, 2, 4, 6])"
      ]
     },
     "execution_count": 85,
     "metadata": {},
     "output_type": "execute_result"
    }
   ],
   "source": [
    "# hstack is numpy array stacking horizontally\n",
    "import numpy as np\n",
    "f = np.array([1,3,5])\n",
    "g = np.array([2,4,6])\n",
    "r = hstack((f,g))\n",
    "# note: this doesn't order but just stacks one row vector to the other row vector\n",
    "r"
   ]
  },
  {
   "cell_type": "markdown",
   "metadata": {},
   "source": [
    "The scikit-learn machine learning library provides the KernelDensity class that implements kernel density estimation. \n",
    "\n",
    "1. The class is constructed with the desired bandwidth (window size) and kernel (basis function) arguments. Test different conffgurations. \n",
    "2. The class is then fit on a data sample via the fit() function. The function expects the data to have a 2D shape with the form [rows, columns], therefore we can reshape our data sample to have 1,000 rows and 1 column.\n",
    "\n",
    "Then evaluate how well the density estimate matches our data by calculating the probabilities for a range of generated observations and comparing the shape to the histogram.  \n",
    "\n",
    "The score_samples() function on the KernelDensity will calculate the log probability for an array of samples. \n",
    "\n",
    "So create a range of samples from 1 to 60, about the range of observed values in our domain, calculate the log probabilities, then invert the log to return the values for normal probabilities."
   ]
  },
  {
   "cell_type": "code",
   "execution_count": 118,
   "metadata": {},
   "outputs": [
    {
     "data": {
      "image/png": "[encoded data removed]",
      "text/plain": [
       "<Figure size 432x288 with 1 Axes>"
      ]
     },
     "metadata": {
      "needs_background": "light"
     },
     "output_type": "display_data"
    }
   ],
   "source": [
    "from matplotlib import pyplot\n",
    "from numpy.random import normal\n",
    "from numpy import hstack\n",
    "#generating a bimodal sample\n",
    "sample1 = normal(loc=20, scale=5, size=300)\n",
    "sample2 = normal(loc=40, scale=5, size=700)\n",
    "sample = hstack((sample1, sample2))\n",
    "# fit density\n",
    "from numpy import asarray\n",
    "from numpy import exp\n",
    "from sklearn.neighbors import KernelDensity\n",
    "#model = KernelDensity(bandwidth=2, kernel ='guassian') #spellerror!!!\n",
    "model = KernelDensity(bandwidth=2, kernel ='gaussian')\n",
    "# fit desnity of sample to this model\n",
    "sample = sample.reshape((len(sample), 1))  #converted into column vector - refer notes above\n",
    "model.fit(sample)\n",
    "\n",
    "#get sample data from fitted model\n",
    "#values = asarray([values for value in range(1, 60)]) # code error!!\n",
    "values = asarray([value for value in range(1, 60)])\n",
    "values = values.reshape((len(values), 1))\n",
    "probs = model.score_samples(values)\n",
    "probs = exp(probs)\n",
    "# plot - histogram is the observes values, lineplot is from sample from fitted model\n",
    "pyplot.hist(sample, bins=50, density=True)\n",
    "pyplot.plot(values, probs)\n",
    "pyplot.show()"
   ]
  },
  {
   "cell_type": "markdown",
   "metadata": {},
   "source": [
    "# Maximum Likelihood Estimation\n",
    "\n",
    "Density estimation is the problem of estimating the probability distribution for a sample of observations from a problem domain. \n",
    "\n",
    "MLE involves defining a likelihood function for calculating the conditional probability of observing the data sample given a probability distribution and distribution parameters. This flexible probabilistic framework also provides the foundation\n",
    "for many machine learning algorithms, like linear regression and logistic regressions for predicting numeric values and class labels respectively, also more generally for deep learning artificial neural networks. \n",
    "\n",
    "- Maximum Likelihood Estimation is a probabilistic framework for solving the problem of density estimation.\n",
    "- it is maximizing a likelihood function in order to find the distribution and parameters that best explain the observed data.\n",
    "- It provides a framework for predictive modeling in machine learning where finding model parameters can be framed as an optimization problem.\n",
    "\n",
    "More generally density estimation problem involves estimating a joint probability distribution; given a sample of observation (X) from a domain (x1; x2; x3; ... ; xn) from iid probability distribution. This is done by selecting a probability distribution function and the parameters of that distribution that best explain the joint probability distribution of the observed data (X).\n",
    "\n",
    "This problem is made more challenging if the sample (X) drawn from the population is small and has noise, meaning that any evaluation of an estimated probability density function and its parameters will have some error. \n",
    "\n",
    "Two common approaches are:\n",
    "- Maximum a Posteriori (MAP), a Bayesian method (MAP allows prior information about the form of the solution to be harnessed)\n",
    "- Maximum Likelihood Estimation (MLE), frequentist method (assumes that all solutions are equally likely beforehand)\n",
    "\n",
    "MLE treats the problem as an optimization or search problem, seeking parameters that provides best fit for the joint probability of the data sample (X). \n",
    "- First, it defines a parameter called theta that defines both the choice of the probability density function and the parameters of that distribution iIt may be a vector of numerical values whose values change smoothly and map to different probability distributions and their parameters). \n",
    "\n",
    "- Then the probability of observing the data from the joint probability distribution is sought to be maximized. P(X; Theta)\n",
    "\n",
    "This resulting conditional probability is referred to as the likelihood of observing the data given the model parameters and written using the notation L() to denote the likelihood function, like L(X; Theta). Objective is to maximize this L().\n",
    "\n",
    "The joint probability distribution can be restated as the multiplication of the conditional probability for observing each example given the distribution parameters as they are supposed to be iid. \n",
    "\n",
    "Multiplying many small probabilities together can be numerically unstable in practice, therefore, it is common to restate this problem as the sum of the log conditional probabilities of observing each example given the model parameters.\n",
    "\n",
    "Given the frequent use of log in the likelihood function, it is commonly referred to as a log-likelihood function. It is common in optimization problems to prefer to minimize the cost function, rather than to maximize it. Therefore, the negative of the log-likelihood function is used, referred to generally as a Negative Log-Likelihood (NLL) function."
   ]
  }
 ],
 "metadata": {
  "kernelspec": {
   "display_name": "Python 3",
   "language": "python",
   "name": "python3"
  },
  "language_info": {
   "codemirror_mode": {
    "name": "ipython",
    "version": 3
   },
   "file_extension": ".py",
   "mimetype": "text/x-python",
   "name": "python",
   "nbconvert_exporter": "python",
   "pygments_lexer": "ipython3",
   "version": "3.7.3"
  }
 },
 "nbformat": 4,
 "nbformat_minor": 2
}
