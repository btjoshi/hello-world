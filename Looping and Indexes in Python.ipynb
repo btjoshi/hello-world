{
 "cells": [
  {
   "cell_type": "markdown",
   "metadata": {},
   "source": [
    "There is difference between 'for' loop and 'for each' loop. \n",
    "Wiki - Foreach loop (or for each loop) is a control flow statement for traversing items in a collection. Foreach is usually used in place of a standard for loop statement. Unlike other for loop constructs, however, foreach loops[1] usually maintain no explicit counter: they essentially say \"do this to everything in this set\", rather than \"do this x times\". This avoids potential off-by-one errors and makes code simpler to read. In object-oriented languages an iterator, even if implicit, is often used as the means of traversal."
   ]
  },
  {
   "cell_type": "markdown",
   "metadata": {},
   "source": [
    "For a Java loop\n",
    "var colors = [\"red\", \"green\", \"blue\", \"purple\"];\n",
    "for (var i = 0; i < colors.length; i++) {\n",
    "    console.log(colors[i]);\n",
    "}\n",
    "Here the flow is\n",
    "1. Set a counter variable i to 0\n",
    "2. Check if the counter is less than the array length\n",
    "3. Execute the code in the loop or exit the loop if the counter is too high\n",
    "4. Increment the counter variable by 1"
   ]
  },
  {
   "cell_type": "markdown",
   "metadata": {},
   "source": [
    "# Looping in Python"
   ]
  },
  {
   "cell_type": "code",
   "execution_count": 1,
   "metadata": {},
   "outputs": [
    {
     "name": "stdout",
     "output_type": "stream",
     "text": [
      "red\n",
      "green\n",
      "blue\n",
      "purple\n"
     ]
    }
   ],
   "source": [
    "#To mimic the above\n",
    "colors = [\"red\", \"green\", \"blue\", \"purple\"]\n",
    "i = 0\n",
    "while i < len(colors):\n",
    "    print(colors[i])\n",
    "    i += 1"
   ]
  },
  {
   "cell_type": "code",
   "execution_count": 2,
   "metadata": {},
   "outputs": [
    {
     "name": "stdout",
     "output_type": "stream",
     "text": [
      "red\n",
      "green\n",
      "blue\n",
      "purple\n"
     ]
    }
   ],
   "source": [
    "#or reaching out to range(len())\n",
    "#these methods we discussed are sometimes referred to as anti-patterns because they are \n",
    "#programming patterns which are widely considered unidiomatic\n",
    "colors = [\"red\", \"green\", \"blue\", \"purple\"]\n",
    "for i in range(len(colors)):\n",
    "    print(colors[i])"
   ]
  },
  {
   "cell_type": "code",
   "execution_count": 3,
   "metadata": {},
   "outputs": [
    {
     "name": "stdout",
     "output_type": "stream",
     "text": [
      "red\n",
      "green\n",
      "blue\n",
      "purple\n"
     ]
    }
   ],
   "source": [
    "#Because we don’t actually care about the indexes in our loop, there is a much simpler method of looping we can use:\n",
    "colors = [\"red\", \"green\", \"blue\", \"purple\"]\n",
    "for color in colors:\n",
    "    print(color)"
   ]
  },
  {
   "cell_type": "code",
   "execution_count": 4,
   "metadata": {},
   "outputs": [
    {
     "name": "stdout",
     "output_type": "stream",
     "text": [
      "President 1: Washington\n",
      "President 2: Adams\n",
      "President 3: Jefferson\n",
      "President 4: Madison\n",
      "President 5: Monroe\n",
      "President 6: Adams\n",
      "President 7: Jackson\n"
     ]
    }
   ],
   "source": [
    "#But what if we needed index?\n",
    "presidents = [\"Washington\", \"Adams\", \"Jefferson\", \"Madison\", \"Monroe\", \"Adams\", \"Jackson\"]\n",
    "for i in range(len(presidents)):\n",
    "    print(\"President {}: {}\".format(i + 1, presidents[i]))"
   ]
  },
  {
   "cell_type": "markdown",
   "metadata": {},
   "source": [
    "# enumerate\n",
    "Python’s built-in enumerate function allows us to loop over a list and retrieve both the index and the value of each item in the list; gives us an iterable where each element is a tuple that contains the index of the item and the original item value."
   ]
  },
  {
   "cell_type": "code",
   "execution_count": 5,
   "metadata": {},
   "outputs": [
    {
     "name": "stdout",
     "output_type": "stream",
     "text": [
      "President 1: Washington\n",
      "President 2: Adams\n",
      "President 3: Jefferson\n",
      "President 4: Madison\n",
      "President 5: Monroe\n",
      "President 6: Adams\n",
      "President 7: Jackson\n"
     ]
    }
   ],
   "source": [
    "presidents = [\"Washington\", \"Adams\", \"Jefferson\", \"Madison\", \"Monroe\", \"Adams\", \"Jackson\"]\n",
    "for num, name in enumerate(presidents, start=1):\n",
    "    print(\"President {}: {}\".format(num, name))"
   ]
  },
  {
   "cell_type": "markdown",
   "metadata": {},
   "source": [
    "# Looping over multiple lists"
   ]
  },
  {
   "cell_type": "markdown",
   "metadata": {},
   "source": [
    "One way is to loop using index and refering to list items"
   ]
  },
  {
   "cell_type": "code",
   "execution_count": 6,
   "metadata": {},
   "outputs": [
    {
     "name": "stdout",
     "output_type": "stream",
     "text": [
      "20.0% red\n",
      "30.0% green\n",
      "10.0% blue\n",
      "40.0% purple\n"
     ]
    }
   ],
   "source": [
    "colors = [\"red\", \"green\", \"blue\", \"purple\"]\n",
    "ratios = [0.2, 0.3, 0.1, 0.4]\n",
    "for i, color in enumerate(colors):\n",
    "    ratio = ratios[i]\n",
    "    print(\"{}% {}\".format(ratio * 100, color))"
   ]
  },
  {
   "cell_type": "markdown",
   "metadata": {},
   "source": [
    "# # Zip\n",
    "We don’t actually care about the index when looping here. Our real goal is to loop over two lists at once. This need is common enough that there’s a special built-in function. The zip function takes multiple lists and returns an iterable that provides a tuple of the corresponding elements of each list as we loop over it.\n",
    "\n",
    "Note that zip with different size lists will stop after the shortest list runs out of items. You may want to look into itertools.zip_longest if you need different behavior."
   ]
  },
  {
   "cell_type": "code",
   "execution_count": 7,
   "metadata": {},
   "outputs": [
    {
     "name": "stdout",
     "output_type": "stream",
     "text": [
      "20.0% red\n",
      "30.0% green\n",
      "10.0% blue\n",
      "40.0% purple\n"
     ]
    }
   ],
   "source": [
    "colors = [\"red\", \"green\", \"blue\", \"purple\"]\n",
    "ratios = [0.2, 0.3, 0.1, 0.4]\n",
    "for color, ratio in zip(colors, ratios):\n",
    "    print(\"{}% {}\".format(ratio * 100, color))"
   ]
  },
  {
   "cell_type": "markdown",
   "metadata": {},
   "source": [
    "# Looping cheat sheet\n",
    "If you find yourself tempted to use range(len(my_list)) or a loop counter, think about whether you can reframe your problem to allow usage of zip or enumerate (or a combination of the two).\n",
    "\n",
    "In fact, if you find yourself reaching for enumerate, think about whether you actually need indexes at all. It’s quite rare to need indexes in Python."
   ]
  },
  {
   "cell_type": "code",
   "execution_count": 10,
   "metadata": {},
   "outputs": [
    {
     "name": "stdout",
     "output_type": "stream",
     "text": [
      "1\n",
      "2\n",
      "3\n"
     ]
    }
   ],
   "source": [
    "#If you only need to loop over a single list just use a for-in loop\n",
    "numbers = [1,2,3]\n",
    "for n in numbers:\n",
    "    print(n)"
   ]
  },
  {
   "cell_type": "code",
   "execution_count": 12,
   "metadata": {},
   "outputs": [
    {
     "name": "stdout",
     "output_type": "stream",
     "text": [
      "red: R, 1\n",
      "green: G, 1\n",
      "blue: B, 1\n",
      "purple: P, 1\n"
     ]
    }
   ],
   "source": [
    "#If you need to loop over multiple lists at the same time, use zip\n",
    "headers = [\"red\", \"green\", \"blue\", \"purple\"]\n",
    "columns = [\"R1\", \"G1\", \"B1\", \"P1\"]\n",
    "for header, rows in zip(headers, columns):\n",
    "    print(\"{}: {}\".format(header, \", \".join(rows)))"
   ]
  },
  {
   "cell_type": "code",
   "execution_count": null,
   "metadata": {},
   "outputs": [],
   "source": []
  }
 ],
 "metadata": {
  "kernelspec": {
   "display_name": "Python 3",
   "language": "python",
   "name": "python3"
  },
  "language_info": {
   "codemirror_mode": {
    "name": "ipython",
    "version": 3
   },
   "file_extension": ".py",
   "mimetype": "text/x-python",
   "name": "python",
   "nbconvert_exporter": "python",
   "pygments_lexer": "ipython3",
   "version": "3.7.3"
  }
 },
 "nbformat": 4,
 "nbformat_minor": 2
}
