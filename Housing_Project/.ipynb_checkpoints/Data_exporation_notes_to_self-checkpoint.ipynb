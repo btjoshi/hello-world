{
 "cells": [
  {
   "cell_type": "code",
   "execution_count": 1,
   "metadata": {},
   "outputs": [
    {
     "data": {
      "text/html": [
       "<div>\n",
       "<style scoped>\n",
       "    .dataframe tbody tr th:only-of-type {\n",
       "        vertical-align: middle;\n",
       "    }\n",
       "\n",
       "    .dataframe tbody tr th {\n",
       "        vertical-align: top;\n",
       "    }\n",
       "\n",
       "    .dataframe thead th {\n",
       "        text-align: right;\n",
       "    }\n",
       "</style>\n",
       "<table border=\"1\" class=\"dataframe\">\n",
       "  <thead>\n",
       "    <tr style=\"text-align: right;\">\n",
       "      <th></th>\n",
       "      <th>Neighborhood</th>\n",
       "      <th>Exterior1st</th>\n",
       "      <th>YearBuilt</th>\n",
       "      <th>LotFrontage</th>\n",
       "      <th>GrLivArea</th>\n",
       "      <th>GarageArea</th>\n",
       "      <th>BedroomAbvGr</th>\n",
       "      <th>FullBath</th>\n",
       "      <th>OverallQual</th>\n",
       "      <th>HeatingQC</th>\n",
       "      <th>SalePrice</th>\n",
       "    </tr>\n",
       "  </thead>\n",
       "  <tbody>\n",
       "    <tr>\n",
       "      <th>0</th>\n",
       "      <td>CollgCr</td>\n",
       "      <td>VinylSd</td>\n",
       "      <td>2003</td>\n",
       "      <td>65.0</td>\n",
       "      <td>1710</td>\n",
       "      <td>548</td>\n",
       "      <td>3</td>\n",
       "      <td>2</td>\n",
       "      <td>7</td>\n",
       "      <td>Ex</td>\n",
       "      <td>208500</td>\n",
       "    </tr>\n",
       "    <tr>\n",
       "      <th>1</th>\n",
       "      <td>Veenker</td>\n",
       "      <td>MetalSd</td>\n",
       "      <td>1976</td>\n",
       "      <td>80.0</td>\n",
       "      <td>1262</td>\n",
       "      <td>460</td>\n",
       "      <td>3</td>\n",
       "      <td>2</td>\n",
       "      <td>6</td>\n",
       "      <td>Ex</td>\n",
       "      <td>181500</td>\n",
       "    </tr>\n",
       "    <tr>\n",
       "      <th>2</th>\n",
       "      <td>CollgCr</td>\n",
       "      <td>VinylSd</td>\n",
       "      <td>2001</td>\n",
       "      <td>68.0</td>\n",
       "      <td>1786</td>\n",
       "      <td>608</td>\n",
       "      <td>3</td>\n",
       "      <td>2</td>\n",
       "      <td>7</td>\n",
       "      <td>Ex</td>\n",
       "      <td>223500</td>\n",
       "    </tr>\n",
       "  </tbody>\n",
       "</table>\n",
       "</div>"
      ],
      "text/plain": [
       "  Neighborhood Exterior1st  YearBuilt  LotFrontage  GrLivArea  GarageArea  \\\n",
       "0      CollgCr     VinylSd       2003         65.0       1710         548   \n",
       "1      Veenker     MetalSd       1976         80.0       1262         460   \n",
       "2      CollgCr     VinylSd       2001         68.0       1786         608   \n",
       "\n",
       "   BedroomAbvGr  FullBath  OverallQual HeatingQC  SalePrice  \n",
       "0             3         2            7        Ex     208500  \n",
       "1             3         2            6        Ex     181500  \n",
       "2             3         2            7        Ex     223500  "
      ]
     },
     "execution_count": 1,
     "metadata": {},
     "output_type": "execute_result"
    }
   ],
   "source": [
    "import pandas as pd\n",
    "housing = pd.read_csv('housing_sample.csv')\n",
    "housing.head(3)"
   ]
  },
  {
   "cell_type": "code",
   "execution_count": 2,
   "metadata": {},
   "outputs": [
    {
     "data": {
      "text/plain": [
       "180921.19589041095"
      ]
     },
     "execution_count": 2,
     "metadata": {},
     "output_type": "execute_result"
    }
   ],
   "source": [
    "mean_price = housing['SalePrice'].mean()\n",
    "mean_price"
   ]
  },
  {
   "cell_type": "code",
   "execution_count": 4,
   "metadata": {},
   "outputs": [
    {
     "data": {
      "text/plain": [
       "120.57287807326834"
      ]
     },
     "execution_count": 4,
     "metadata": {},
     "output_type": "execute_result"
    }
   ],
   "source": [
    "price_sqft = (housing['SalePrice']/housing['GrLivArea']).mean()\n",
    "price_sqft"
   ]
  },
  {
   "cell_type": "code",
   "execution_count": 8,
   "metadata": {},
   "outputs": [
    {
     "data": {
      "text/plain": [
       "[139045.93222506394, 205017.30818965516, 281696.2429906542]"
      ]
     },
     "execution_count": 8,
     "metadata": {},
     "output_type": "execute_result"
    }
   ],
   "source": [
    "grp_price = [housing.query('GrLivArea < 1500')['SalePrice'].mean(), \n",
    "             housing.query('1500 <= GrLivArea <= 2000')['SalePrice'].mean(),\n",
    "             housing.query('GrLivArea > 2000')['SalePrice'].mean()]\n",
    "grp_price"
   ]
  },
  {
   "cell_type": "code",
   "execution_count": 30,
   "metadata": {},
   "outputs": [],
   "source": [
    "def model_1_simple_avg(sq_foot):\n",
    "    return round(mean_price, -3)\n",
    "def model_2_avg_ppsf(sq_foot):\n",
    "    return round(price_per_sq_foot * sq_foot, -3)\n",
    "def model_3_bin_avg(sq_foot):\n",
    "    cat = 0 if sq_foot < 1500 else 1 if sq_foot <= 2000 else 2\n",
    "    return round(group_price[cat], -3)"
   ]
  },
  {
   "cell_type": "code",
   "execution_count": 36,
   "metadata": {},
   "outputs": [
    {
     "data": {
      "text/html": [
       "<div>\n",
       "<style scoped>\n",
       "    .dataframe tbody tr th:only-of-type {\n",
       "        vertical-align: middle;\n",
       "    }\n",
       "\n",
       "    .dataframe tbody tr th {\n",
       "        vertical-align: top;\n",
       "    }\n",
       "\n",
       "    .dataframe thead th {\n",
       "        text-align: right;\n",
       "    }\n",
       "</style>\n",
       "<table border=\"1\" class=\"dataframe\">\n",
       "  <thead>\n",
       "    <tr style=\"text-align: right;\">\n",
       "      <th></th>\n",
       "      <th>model_1_simple_avg</th>\n",
       "      <th>model_2_avg_ppsf</th>\n",
       "      <th>model_3_bin_avg</th>\n",
       "    </tr>\n",
       "  </thead>\n",
       "  <tbody>\n",
       "    <tr>\n",
       "      <th>1000</th>\n",
       "      <td>&lt;map object at 0x00000130A8D8A438&gt;</td>\n",
       "      <td>&lt;map object at 0x00000130A8D8A3C8&gt;</td>\n",
       "      <td>&lt;map object at 0x00000130A8D8A470&gt;</td>\n",
       "    </tr>\n",
       "    <tr>\n",
       "      <th>1500</th>\n",
       "      <td>&lt;map object at 0x00000130A8D8A438&gt;</td>\n",
       "      <td>&lt;map object at 0x00000130A8D8A3C8&gt;</td>\n",
       "      <td>&lt;map object at 0x00000130A8D8A470&gt;</td>\n",
       "    </tr>\n",
       "    <tr>\n",
       "      <th>2000</th>\n",
       "      <td>&lt;map object at 0x00000130A8D8A438&gt;</td>\n",
       "      <td>&lt;map object at 0x00000130A8D8A3C8&gt;</td>\n",
       "      <td>&lt;map object at 0x00000130A8D8A470&gt;</td>\n",
       "    </tr>\n",
       "    <tr>\n",
       "      <th>2500</th>\n",
       "      <td>&lt;map object at 0x00000130A8D8A438&gt;</td>\n",
       "      <td>&lt;map object at 0x00000130A8D8A3C8&gt;</td>\n",
       "      <td>&lt;map object at 0x00000130A8D8A470&gt;</td>\n",
       "    </tr>\n",
       "    <tr>\n",
       "      <th>3000</th>\n",
       "      <td>&lt;map object at 0x00000130A8D8A438&gt;</td>\n",
       "      <td>&lt;map object at 0x00000130A8D8A3C8&gt;</td>\n",
       "      <td>&lt;map object at 0x00000130A8D8A470&gt;</td>\n",
       "    </tr>\n",
       "  </tbody>\n",
       "</table>\n",
       "</div>"
      ],
      "text/plain": [
       "                      model_1_simple_avg                    model_2_avg_ppsf  \\\n",
       "1000  <map object at 0x00000130A8D8A438>  <map object at 0x00000130A8D8A3C8>   \n",
       "1500  <map object at 0x00000130A8D8A438>  <map object at 0x00000130A8D8A3C8>   \n",
       "2000  <map object at 0x00000130A8D8A438>  <map object at 0x00000130A8D8A3C8>   \n",
       "2500  <map object at 0x00000130A8D8A438>  <map object at 0x00000130A8D8A3C8>   \n",
       "3000  <map object at 0x00000130A8D8A438>  <map object at 0x00000130A8D8A3C8>   \n",
       "\n",
       "                         model_3_bin_avg  \n",
       "1000  <map object at 0x00000130A8D8A470>  \n",
       "1500  <map object at 0x00000130A8D8A470>  \n",
       "2000  <map object at 0x00000130A8D8A470>  \n",
       "2500  <map object at 0x00000130A8D8A470>  \n",
       "3000  <map object at 0x00000130A8D8A470>  "
      ]
     },
     "execution_count": 36,
     "metadata": {},
     "output_type": "execute_result"
    }
   ],
   "source": [
    "sq_feet = range(1000, 3500, 500)\n",
    "models = [model_1_simple_avg, model_2_avg_ppsf, model_3_bin_avg]\n",
    "data = {model.__name__: map(model, sq_feet) for model in models}\n",
    "df_predictions = pd.DataFrame(data=data, index=sq_feet)\n",
    "df_predictions"
   ]
  },
  {
   "cell_type": "code",
   "execution_count": null,
   "metadata": {},
   "outputs": [],
   "source": []
  }
 ],
 "metadata": {
  "kernelspec": {
   "display_name": "Python 3",
   "language": "python",
   "name": "python3"
  },
  "language_info": {
   "codemirror_mode": {
    "name": "ipython",
    "version": 3
   },
   "file_extension": ".py",
   "mimetype": "text/x-python",
   "name": "python",
   "nbconvert_exporter": "python",
   "pygments_lexer": "ipython3",
   "version": "3.7.3"
  }
 },
 "nbformat": 4,
 "nbformat_minor": 2
}
