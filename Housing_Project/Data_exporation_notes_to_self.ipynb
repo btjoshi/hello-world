{
 "cells": [
  {
   "cell_type": "code",
   "execution_count": 1,
   "metadata": {},
   "outputs": [
    {
     "data": {
      "text/html": [
       "<div>\n",
       "<style scoped>\n",
       "    .dataframe tbody tr th:only-of-type {\n",
       "        vertical-align: middle;\n",
       "    }\n",
       "\n",
       "    .dataframe tbody tr th {\n",
       "        vertical-align: top;\n",
       "    }\n",
       "\n",
       "    .dataframe thead th {\n",
       "        text-align: right;\n",
       "    }\n",
       "</style>\n",
       "<table border=\"1\" class=\"dataframe\">\n",
       "  <thead>\n",
       "    <tr style=\"text-align: right;\">\n",
       "      <th></th>\n",
       "      <th>Neighborhood</th>\n",
       "      <th>Exterior1st</th>\n",
       "      <th>YearBuilt</th>\n",
       "      <th>LotFrontage</th>\n",
       "      <th>GrLivArea</th>\n",
       "      <th>GarageArea</th>\n",
       "      <th>BedroomAbvGr</th>\n",
       "      <th>FullBath</th>\n",
       "      <th>OverallQual</th>\n",
       "      <th>HeatingQC</th>\n",
       "      <th>SalePrice</th>\n",
       "    </tr>\n",
       "  </thead>\n",
       "  <tbody>\n",
       "    <tr>\n",
       "      <th>0</th>\n",
       "      <td>CollgCr</td>\n",
       "      <td>VinylSd</td>\n",
       "      <td>2003</td>\n",
       "      <td>65.0</td>\n",
       "      <td>1710</td>\n",
       "      <td>548</td>\n",
       "      <td>3</td>\n",
       "      <td>2</td>\n",
       "      <td>7</td>\n",
       "      <td>Ex</td>\n",
       "      <td>208500</td>\n",
       "    </tr>\n",
       "    <tr>\n",
       "      <th>1</th>\n",
       "      <td>Veenker</td>\n",
       "      <td>MetalSd</td>\n",
       "      <td>1976</td>\n",
       "      <td>80.0</td>\n",
       "      <td>1262</td>\n",
       "      <td>460</td>\n",
       "      <td>3</td>\n",
       "      <td>2</td>\n",
       "      <td>6</td>\n",
       "      <td>Ex</td>\n",
       "      <td>181500</td>\n",
       "    </tr>\n",
       "    <tr>\n",
       "      <th>2</th>\n",
       "      <td>CollgCr</td>\n",
       "      <td>VinylSd</td>\n",
       "      <td>2001</td>\n",
       "      <td>68.0</td>\n",
       "      <td>1786</td>\n",
       "      <td>608</td>\n",
       "      <td>3</td>\n",
       "      <td>2</td>\n",
       "      <td>7</td>\n",
       "      <td>Ex</td>\n",
       "      <td>223500</td>\n",
       "    </tr>\n",
       "  </tbody>\n",
       "</table>\n",
       "</div>"
      ],
      "text/plain": [
       "  Neighborhood Exterior1st  YearBuilt  LotFrontage  GrLivArea  GarageArea  \\\n",
       "0      CollgCr     VinylSd       2003         65.0       1710         548   \n",
       "1      Veenker     MetalSd       1976         80.0       1262         460   \n",
       "2      CollgCr     VinylSd       2001         68.0       1786         608   \n",
       "\n",
       "   BedroomAbvGr  FullBath  OverallQual HeatingQC  SalePrice  \n",
       "0             3         2            7        Ex     208500  \n",
       "1             3         2            6        Ex     181500  \n",
       "2             3         2            7        Ex     223500  "
      ]
     },
     "execution_count": 1,
     "metadata": {},
     "output_type": "execute_result"
    }
   ],
   "source": [
    "import pandas as pd\n",
    "housing = pd.read_csv('housing_sample.csv')\n",
    "housing.head(3)"
   ]
  },
  {
   "cell_type": "code",
   "execution_count": 2,
   "metadata": {},
   "outputs": [
    {
     "data": {
      "text/plain": [
       "180921.19589041095"
      ]
     },
     "execution_count": 2,
     "metadata": {},
     "output_type": "execute_result"
    }
   ],
   "source": [
    "mean_price = housing['SalePrice'].mean()\n",
    "mean_price"
   ]
  },
  {
   "cell_type": "code",
   "execution_count": 3,
   "metadata": {},
   "outputs": [
    {
     "data": {
      "text/plain": [
       "120.57287807326834"
      ]
     },
     "execution_count": 3,
     "metadata": {},
     "output_type": "execute_result"
    }
   ],
   "source": [
    "price_sqft = (housing['SalePrice']/housing['GrLivArea']).mean()\n",
    "price_sqft"
   ]
  },
  {
   "cell_type": "code",
   "execution_count": 4,
   "metadata": {},
   "outputs": [
    {
     "data": {
      "text/plain": [
       "[139045.93222506394, 205017.30818965516, 281696.2429906542]"
      ]
     },
     "execution_count": 4,
     "metadata": {},
     "output_type": "execute_result"
    }
   ],
   "source": [
    "grp_price = [housing.query('GrLivArea < 1500')['SalePrice'].mean(), \n",
    "             housing.query('1500 <= GrLivArea <= 2000')['SalePrice'].mean(),\n",
    "             housing.query('GrLivArea > 2000')['SalePrice'].mean()]\n",
    "grp_price"
   ]
  },
  {
   "cell_type": "code",
   "execution_count": 5,
   "metadata": {},
   "outputs": [],
   "source": [
    "def model_1_simple_avg(sq_foot):\n",
    "    return round(mean_price, -3)\n",
    "def model_2_avg_ppsf(sq_foot):\n",
    "    return round(price_per_sq_foot * sq_foot, -3)\n",
    "def model_3_bin_avg(sq_foot):\n",
    "    cat = 0 if sq_foot < 1500 else 1 if sq_foot <= 2000 else 2\n",
    "    return round(group_price[cat], -3)"
   ]
  },
  {
   "cell_type": "code",
   "execution_count": 9,
   "metadata": {},
   "outputs": [
    {
     "data": {
      "text/html": [
       "<div>\n",
       "<style scoped>\n",
       "    .dataframe tbody tr th:only-of-type {\n",
       "        vertical-align: middle;\n",
       "    }\n",
       "\n",
       "    .dataframe tbody tr th {\n",
       "        vertical-align: top;\n",
       "    }\n",
       "\n",
       "    .dataframe thead th {\n",
       "        text-align: right;\n",
       "    }\n",
       "</style>\n",
       "<table border=\"1\" class=\"dataframe\">\n",
       "  <thead>\n",
       "    <tr style=\"text-align: right;\">\n",
       "      <th></th>\n",
       "      <th>model_1_simple_avg</th>\n",
       "      <th>model_2_avg_ppsf</th>\n",
       "      <th>model_3_bin_avg</th>\n",
       "    </tr>\n",
       "  </thead>\n",
       "  <tbody>\n",
       "    <tr>\n",
       "      <th>1000</th>\n",
       "      <td>&lt;map object at 0x0000017E2729B6D8&gt;</td>\n",
       "      <td>&lt;map object at 0x0000017E2729B668&gt;</td>\n",
       "      <td>&lt;map object at 0x0000017E2729B550&gt;</td>\n",
       "    </tr>\n",
       "    <tr>\n",
       "      <th>1500</th>\n",
       "      <td>&lt;map object at 0x0000017E2729B6D8&gt;</td>\n",
       "      <td>&lt;map object at 0x0000017E2729B668&gt;</td>\n",
       "      <td>&lt;map object at 0x0000017E2729B550&gt;</td>\n",
       "    </tr>\n",
       "    <tr>\n",
       "      <th>2000</th>\n",
       "      <td>&lt;map object at 0x0000017E2729B6D8&gt;</td>\n",
       "      <td>&lt;map object at 0x0000017E2729B668&gt;</td>\n",
       "      <td>&lt;map object at 0x0000017E2729B550&gt;</td>\n",
       "    </tr>\n",
       "    <tr>\n",
       "      <th>2500</th>\n",
       "      <td>&lt;map object at 0x0000017E2729B6D8&gt;</td>\n",
       "      <td>&lt;map object at 0x0000017E2729B668&gt;</td>\n",
       "      <td>&lt;map object at 0x0000017E2729B550&gt;</td>\n",
       "    </tr>\n",
       "    <tr>\n",
       "      <th>3000</th>\n",
       "      <td>&lt;map object at 0x0000017E2729B6D8&gt;</td>\n",
       "      <td>&lt;map object at 0x0000017E2729B668&gt;</td>\n",
       "      <td>&lt;map object at 0x0000017E2729B550&gt;</td>\n",
       "    </tr>\n",
       "  </tbody>\n",
       "</table>\n",
       "</div>"
      ],
      "text/plain": [
       "                      model_1_simple_avg                    model_2_avg_ppsf  \\\n",
       "1000  <map object at 0x0000017E2729B6D8>  <map object at 0x0000017E2729B668>   \n",
       "1500  <map object at 0x0000017E2729B6D8>  <map object at 0x0000017E2729B668>   \n",
       "2000  <map object at 0x0000017E2729B6D8>  <map object at 0x0000017E2729B668>   \n",
       "2500  <map object at 0x0000017E2729B6D8>  <map object at 0x0000017E2729B668>   \n",
       "3000  <map object at 0x0000017E2729B6D8>  <map object at 0x0000017E2729B668>   \n",
       "\n",
       "                         model_3_bin_avg  \n",
       "1000  <map object at 0x0000017E2729B550>  \n",
       "1500  <map object at 0x0000017E2729B550>  \n",
       "2000  <map object at 0x0000017E2729B550>  \n",
       "2500  <map object at 0x0000017E2729B550>  \n",
       "3000  <map object at 0x0000017E2729B550>  "
      ]
     },
     "execution_count": 9,
     "metadata": {},
     "output_type": "execute_result"
    }
   ],
   "source": [
    "sq_feet = range(1000, 3500, 500)\n",
    "models = [model_1_simple_avg, model_2_avg_ppsf, model_3_bin_avg]\n",
    "data = {model.__name__: map(model, sq_feet) for model in models}\n",
    "df_predictions = pd.DataFrame(data=data, index=sq_feet)\n",
    "df_predictions"
   ]
  },
  {
   "cell_type": "code",
   "execution_count": 1,
   "metadata": {},
   "outputs": [
    {
     "data": {
      "text/html": [
       "<div>\n",
       "<style scoped>\n",
       "    .dataframe tbody tr th:only-of-type {\n",
       "        vertical-align: middle;\n",
       "    }\n",
       "\n",
       "    .dataframe tbody tr th {\n",
       "        vertical-align: top;\n",
       "    }\n",
       "\n",
       "    .dataframe thead th {\n",
       "        text-align: right;\n",
       "    }\n",
       "</style>\n",
       "<table border=\"1\" class=\"dataframe\">\n",
       "  <thead>\n",
       "    <tr style=\"text-align: right;\">\n",
       "      <th></th>\n",
       "      <th>Neighborhood</th>\n",
       "      <th>Exterior1st</th>\n",
       "      <th>YearBuilt</th>\n",
       "      <th>LotFrontage</th>\n",
       "      <th>GrLivArea</th>\n",
       "      <th>GarageArea</th>\n",
       "      <th>BedroomAbvGr</th>\n",
       "      <th>FullBath</th>\n",
       "      <th>OverallQual</th>\n",
       "      <th>HeatingQC</th>\n",
       "      <th>SalePrice</th>\n",
       "    </tr>\n",
       "  </thead>\n",
       "  <tbody>\n",
       "    <tr>\n",
       "      <th>0</th>\n",
       "      <td>CollgCr</td>\n",
       "      <td>VinylSd</td>\n",
       "      <td>2003</td>\n",
       "      <td>65.0</td>\n",
       "      <td>1710</td>\n",
       "      <td>548</td>\n",
       "      <td>3</td>\n",
       "      <td>2</td>\n",
       "      <td>7</td>\n",
       "      <td>Ex</td>\n",
       "      <td>208500</td>\n",
       "    </tr>\n",
       "    <tr>\n",
       "      <th>1</th>\n",
       "      <td>Veenker</td>\n",
       "      <td>MetalSd</td>\n",
       "      <td>1976</td>\n",
       "      <td>80.0</td>\n",
       "      <td>1262</td>\n",
       "      <td>460</td>\n",
       "      <td>3</td>\n",
       "      <td>2</td>\n",
       "      <td>6</td>\n",
       "      <td>Ex</td>\n",
       "      <td>181500</td>\n",
       "    </tr>\n",
       "    <tr>\n",
       "      <th>2</th>\n",
       "      <td>CollgCr</td>\n",
       "      <td>VinylSd</td>\n",
       "      <td>2001</td>\n",
       "      <td>68.0</td>\n",
       "      <td>1786</td>\n",
       "      <td>608</td>\n",
       "      <td>3</td>\n",
       "      <td>2</td>\n",
       "      <td>7</td>\n",
       "      <td>Ex</td>\n",
       "      <td>223500</td>\n",
       "    </tr>\n",
       "  </tbody>\n",
       "</table>\n",
       "</div>"
      ],
      "text/plain": [
       "  Neighborhood Exterior1st  YearBuilt  LotFrontage  GrLivArea  GarageArea  \\\n",
       "0      CollgCr     VinylSd       2003         65.0       1710         548   \n",
       "1      Veenker     MetalSd       1976         80.0       1262         460   \n",
       "2      CollgCr     VinylSd       2001         68.0       1786         608   \n",
       "\n",
       "   BedroomAbvGr  FullBath  OverallQual HeatingQC  SalePrice  \n",
       "0             3         2            7        Ex     208500  \n",
       "1             3         2            6        Ex     181500  \n",
       "2             3         2            7        Ex     223500  "
      ]
     },
     "execution_count": 1,
     "metadata": {},
     "output_type": "execute_result"
    }
   ],
   "source": [
    "import pandas as pd\n",
    "housing = pd.read_csv('housing_sample.csv')\n",
    "housing.head(3)"
   ]
  },
  {
   "cell_type": "code",
   "execution_count": 15,
   "metadata": {},
   "outputs": [],
   "source": [
    "mean_price = housing['SalePrice'].mean()\n",
    "price_per_sq_foot = (housing['SalePrice'] / housing['GrLivArea']).mean()\n",
    "group_price = [housing.query('GrLivArea < 1500')['SalePrice'].mean(),\n",
    "               housing.query('1500 <= GrLivArea <= 2000')['SalePrice'].mean(),\n",
    "               housing.query('GrLivArea > 2000')['SalePrice'].mean()]\n",
    "\n",
    "def model_1_simple_avg(sq_foot):\n",
    "    return round(mean_price, -3)\n",
    "\n",
    "def model_2_avg_ppsf(sq_foot):\n",
    "    return round(price_per_sq_foot * sq_foot, -3)\n",
    "\n",
    "def model_3_bin_avg(sq_foot):\n",
    "    cat = 0 if sq_foot < 1500 else 1 if sq_foot <= 2000 else 2\n",
    "    return group_price[cat]"
   ]
  },
  {
   "cell_type": "code",
   "execution_count": 14,
   "metadata": {},
   "outputs": [],
   "source": [
    "import numpy as np\n",
    "def make_prediction(model, X):\n",
    "    return np.array([model(x) for x in X])"
   ]
  },
  {
   "cell_type": "code",
   "execution_count": 17,
   "metadata": {},
   "outputs": [],
   "source": [
    "X = [1200, 1800, 2750]"
   ]
  },
  {
   "cell_type": "code",
   "execution_count": 18,
   "metadata": {},
   "outputs": [
    {
     "data": {
      "text/plain": [
       "array([145000., 217000., 332000.])"
      ]
     },
     "execution_count": 18,
     "metadata": {},
     "output_type": "execute_result"
    }
   ],
   "source": [
    "make_prediction(model_2_avg_ppsf, X)"
   ]
  },
  {
   "cell_type": "code",
   "execution_count": 23,
   "metadata": {},
   "outputs": [
    {
     "data": {
      "text/plain": [
       "array([206000., 152000., 215000., 207000., 265000.])"
      ]
     },
     "execution_count": 23,
     "metadata": {},
     "output_type": "execute_result"
    }
   ],
   "source": [
    "#backtesting on labelled data\n",
    "X = housing['GrLivArea']\n",
    "y_pred = make_prediction(model_2_avg_ppsf, X)\n",
    "y_pred[:5]"
   ]
  },
  {
   "cell_type": "code",
   "execution_count": 24,
   "metadata": {},
   "outputs": [
    {
     "data": {
      "text/plain": [
       "0    208500\n",
       "1    181500\n",
       "2    223500\n",
       "3    140000\n",
       "4    250000\n",
       "Name: SalePrice, dtype: int64"
      ]
     },
     "execution_count": 24,
     "metadata": {},
     "output_type": "execute_result"
    }
   ],
   "source": [
    "y = housing['SalePrice']\n",
    "y[:5]"
   ]
  },
  {
   "cell_type": "code",
   "execution_count": 34,
   "metadata": {},
   "outputs": [],
   "source": [
    "import matplotlib.pyplot as plt\n",
    "%matplotlib inline\n",
    "def plot_pred_vs_actual(model, n=20):\n",
    "    housing_sample = housing.sample(n, random_state=123)\n",
    "    X = housing_sample['GrLivArea']\n",
    "    y = housing_sample['SalePrice']\n",
    "    y_pred = make_prediction(model, X)\n",
    "    \n",
    "    fig, ax = plt.subplots(figsize=(12,5))\n",
    "    ax.scatter(X, y, marker='o', label='Ground Truth')\n",
    "    ax.scatter(X, y_pred, label='Prediction')\n",
    "    ax.vlines(X, y, y_pred, linestyle='--', label='error')\n",
    "    \n",
    "    ax.set_title(f\"Random {n} poins from {model.__name__}\")\n",
    "    ax.set_xlabel('Square Feet')\n",
    "    ax.set_ylabel('Sale Price')\n",
    "    ax.legend() "
   ]
  },
  {
   "cell_type": "code",
   "execution_count": 35,
   "metadata": {},
   "outputs": [
    {
     "data": {
      "image/png": "[encoded data removed]",
      "text/plain": [
       "<Figure size 864x360 with 1 Axes>"
      ]
     },
     "metadata": {
      "needs_background": "light"
     },
     "output_type": "display_data"
    }
   ],
   "source": [
    "plot_pred_vs_actual(model_1_simple_avg)"
   ]
  },
  {
   "cell_type": "code",
   "execution_count": 36,
   "metadata": {},
   "outputs": [
    {
     "data": {
      "image/png": "[encoded data removed]",
      "text/plain": [
       "<Figure size 864x360 with 1 Axes>"
      ]
     },
     "metadata": {
      "needs_background": "light"
     },
     "output_type": "display_data"
    }
   ],
   "source": [
    "plot_pred_vs_actual(model_2_avg_ppsf)"
   ]
  },
  {
   "cell_type": "code",
   "execution_count": 37,
   "metadata": {},
   "outputs": [
    {
     "data": {
      "image/png": "[encoded data removed]",
      "text/plain": [
       "<Figure size 864x360 with 1 Axes>"
      ]
     },
     "metadata": {
      "needs_background": "light"
     },
     "output_type": "display_data"
    }
   ],
   "source": [
    "plot_pred_vs_actual(model_3_bin_avg)"
   ]
  },
  {
   "cell_type": "code",
   "execution_count": 47,
   "metadata": {},
   "outputs": [],
   "source": [
    "#least square error\n",
    "def sse(X, y, model):\n",
    "    y_pred = make_prediction(model, X) \n",
    "    error = y - y_pred \n",
    "    squared_error = error ** 2 \n",
    "    return squared_error.sum() "
   ]
  },
  {
   "cell_type": "code",
   "execution_count": 50,
   "metadata": {},
   "outputs": [
    {
     "data": {
      "text/plain": [
       "model_1_simple_avg    9.207920e+12\n",
       "model_2_avg_ppsf      4.662359e+12\n",
       "model_3_bin_avg       5.393935e+12\n",
       "dtype: float64"
      ]
     },
     "execution_count": 50,
     "metadata": {},
     "output_type": "execute_result"
    }
   ],
   "source": [
    "X = housing['GrLivArea']\n",
    "y = housing['SalePrice']\n",
    "models = [model_1_simple_avg, model_2_avg_ppsf, model_3_bin_avg]\n",
    "model_sse = pd.Series({model.__name__: sse(X, y, model) for model in models})\n",
    "model_sse"
   ]
  },
  {
   "cell_type": "code",
   "execution_count": 58,
   "metadata": {},
   "outputs": [
    {
     "data": {
      "text/plain": [
       "<matplotlib.axes._subplots.AxesSubplot at 0x26016525e80>"
      ]
     },
     "execution_count": 58,
     "metadata": {},
     "output_type": "execute_result"
    },
    {
     "data": {
      "image/png": "[encoded data removed]",
      "text/plain": [
       "<Figure size 720x288 with 1 Axes>"
      ]
     },
     "metadata": {
      "needs_background": "light"
     },
     "output_type": "display_data"
    }
   ],
   "source": [
    "model_sse.plot(kind='bar', figsize=(10, 4), title='SSError for 3 Models', rot=0)"
   ]
  },
  {
   "cell_type": "code",
   "execution_count": 61,
   "metadata": {},
   "outputs": [],
   "source": [
    "#another measure is root of the mean of squared errors\n",
    "def rmse(X, y, model):\n",
    "    y_pred = make_prediction(model, X)\n",
    "    error = y - y_pred\n",
    "    squared_error = error ** 2\n",
    "    mse = squared_error.mean()\n",
    "    return np.sqrt(mse)"
   ]
  },
  {
   "cell_type": "code",
   "execution_count": 62,
   "metadata": {},
   "outputs": [
    {
     "data": {
      "text/plain": [
       "model_1_simple_avg    79415.330985\n",
       "model_2_avg_ppsf      56510.145963\n",
       "model_3_bin_avg       60782.203726\n",
       "dtype: float64"
      ]
     },
     "execution_count": 62,
     "metadata": {},
     "output_type": "execute_result"
    }
   ],
   "source": [
    "model_rmse = pd.Series({model.__name__: rmse(X, y, model) for model in models})\n",
    "model_rmse"
   ]
  },
  {
   "cell_type": "code",
   "execution_count": 66,
   "metadata": {},
   "outputs": [
    {
     "data": {
      "text/plain": [
       "<matplotlib.axes._subplots.AxesSubplot at 0x260162b59b0>"
      ]
     },
     "execution_count": 66,
     "metadata": {},
     "output_type": "execute_result"
    },
    {
     "data": {
      "image/png": "[encoded data removed]",
      "text/plain": [
       "<Figure size 576x288 with 1 Axes>"
      ]
     },
     "metadata": {
      "needs_background": "light"
     },
     "output_type": "display_data"
    }
   ],
   "source": [
    "model_rmse.plot(kind='bar', figsize=(8, 4), title=\"Root mean square of 3 Models\", rot=0)"
   ]
  },
  {
   "cell_type": "code",
   "execution_count": 72,
   "metadata": {},
   "outputs": [],
   "source": [
    "def plot_errors(X, y, models, error_func):\n",
    "    errors=pd.Series({model.__name__: error_func(X, y, model) for model in models})\n",
    "    errors.plot(kind='bar', figsize=(8,4), title=error_func.__name__, rot=0)"
   ]
  },
  {
   "cell_type": "code",
   "execution_count": 73,
   "metadata": {},
   "outputs": [
    {
     "data": {
      "image/png": "[encoded data removed]",
      "text/plain": [
       "<Figure size 576x288 with 1 Axes>"
      ]
     },
     "metadata": {
      "needs_background": "light"
     },
     "output_type": "display_data"
    }
   ],
   "source": [
    "plot_errors(X, y, models, rmse)"
   ]
  },
  {
   "cell_type": "code",
   "execution_count": 75,
   "metadata": {},
   "outputs": [
    {
     "data": {
      "image/png": "[encoded data removed]",
      "text/plain": [
       "<Figure size 576x288 with 1 Axes>"
      ]
     },
     "metadata": {
      "needs_background": "light"
     },
     "output_type": "display_data"
    }
   ],
   "source": [
    "plot_errors(X, y, models, sse)"
   ]
  },
  {
   "cell_type": "code",
   "execution_count": 2,
   "metadata": {},
   "outputs": [
    {
     "data": {
      "text/html": [
       "<div>\n",
       "<style scoped>\n",
       "    .dataframe tbody tr th:only-of-type {\n",
       "        vertical-align: middle;\n",
       "    }\n",
       "\n",
       "    .dataframe tbody tr th {\n",
       "        vertical-align: top;\n",
       "    }\n",
       "\n",
       "    .dataframe thead th {\n",
       "        text-align: right;\n",
       "    }\n",
       "</style>\n",
       "<table border=\"1\" class=\"dataframe\">\n",
       "  <thead>\n",
       "    <tr style=\"text-align: right;\">\n",
       "      <th></th>\n",
       "      <th>Neighborhood</th>\n",
       "      <th>Exterior1st</th>\n",
       "      <th>YearBuilt</th>\n",
       "      <th>LotFrontage</th>\n",
       "      <th>GrLivArea</th>\n",
       "      <th>GarageArea</th>\n",
       "      <th>BedroomAbvGr</th>\n",
       "      <th>FullBath</th>\n",
       "      <th>OverallQual</th>\n",
       "      <th>HeatingQC</th>\n",
       "      <th>SalePrice</th>\n",
       "    </tr>\n",
       "  </thead>\n",
       "  <tbody>\n",
       "    <tr>\n",
       "      <th>0</th>\n",
       "      <td>CollgCr</td>\n",
       "      <td>VinylSd</td>\n",
       "      <td>2003</td>\n",
       "      <td>65.0</td>\n",
       "      <td>1710</td>\n",
       "      <td>548</td>\n",
       "      <td>3</td>\n",
       "      <td>2</td>\n",
       "      <td>7</td>\n",
       "      <td>Ex</td>\n",
       "      <td>208500</td>\n",
       "    </tr>\n",
       "    <tr>\n",
       "      <th>1</th>\n",
       "      <td>Veenker</td>\n",
       "      <td>MetalSd</td>\n",
       "      <td>1976</td>\n",
       "      <td>80.0</td>\n",
       "      <td>1262</td>\n",
       "      <td>460</td>\n",
       "      <td>3</td>\n",
       "      <td>2</td>\n",
       "      <td>6</td>\n",
       "      <td>Ex</td>\n",
       "      <td>181500</td>\n",
       "    </tr>\n",
       "    <tr>\n",
       "      <th>2</th>\n",
       "      <td>CollgCr</td>\n",
       "      <td>VinylSd</td>\n",
       "      <td>2001</td>\n",
       "      <td>68.0</td>\n",
       "      <td>1786</td>\n",
       "      <td>608</td>\n",
       "      <td>3</td>\n",
       "      <td>2</td>\n",
       "      <td>7</td>\n",
       "      <td>Ex</td>\n",
       "      <td>223500</td>\n",
       "    </tr>\n",
       "  </tbody>\n",
       "</table>\n",
       "</div>"
      ],
      "text/plain": [
       "  Neighborhood Exterior1st  YearBuilt  LotFrontage  GrLivArea  GarageArea  \\\n",
       "0      CollgCr     VinylSd       2003         65.0       1710         548   \n",
       "1      Veenker     MetalSd       1976         80.0       1262         460   \n",
       "2      CollgCr     VinylSd       2001         68.0       1786         608   \n",
       "\n",
       "   BedroomAbvGr  FullBath  OverallQual HeatingQC  SalePrice  \n",
       "0             3         2            7        Ex     208500  \n",
       "1             3         2            6        Ex     181500  \n",
       "2             3         2            7        Ex     223500  "
      ]
     },
     "execution_count": 2,
     "metadata": {},
     "output_type": "execute_result"
    }
   ],
   "source": [
    "import pandas as pd\n",
    "%matplotlib inline\n",
    "housing = pd.read_csv('housing_sample.csv')\n",
    "housing[:3]"
   ]
  },
  {
   "cell_type": "code",
   "execution_count": 4,
   "metadata": {},
   "outputs": [
    {
     "data": {
      "text/plain": [
       "(1460, 11)"
      ]
     },
     "execution_count": 4,
     "metadata": {},
     "output_type": "execute_result"
    }
   ],
   "source": [
    "housing.shape"
   ]
  },
  {
   "cell_type": "code",
   "execution_count": 5,
   "metadata": {},
   "outputs": [
    {
     "data": {
      "text/plain": [
       "Neighborhood     object\n",
       "Exterior1st      object\n",
       "YearBuilt         int64\n",
       "LotFrontage     float64\n",
       "GrLivArea         int64\n",
       "GarageArea        int64\n",
       "BedroomAbvGr      int64\n",
       "FullBath          int64\n",
       "OverallQual       int64\n",
       "HeatingQC        object\n",
       "SalePrice         int64\n",
       "dtype: object"
      ]
     },
     "execution_count": 5,
     "metadata": {},
     "output_type": "execute_result"
    }
   ],
   "source": [
    "housing.dtypes"
   ]
  },
  {
   "cell_type": "code",
   "execution_count": 9,
   "metadata": {},
   "outputs": [
    {
     "data": {
      "text/plain": [
       "Neighborhood      0\n",
       "Exterior1st       0\n",
       "YearBuilt         0\n",
       "LotFrontage     259\n",
       "GrLivArea         0\n",
       "GarageArea        0\n",
       "BedroomAbvGr      0\n",
       "FullBath          0\n",
       "OverallQual       0\n",
       "HeatingQC         0\n",
       "SalePrice         0\n",
       "dtype: int64"
      ]
     },
     "execution_count": 9,
     "metadata": {},
     "output_type": "execute_result"
    }
   ],
   "source": [
    "housing.isna().sum()"
   ]
  },
  {
   "cell_type": "code",
   "execution_count": null,
   "metadata": {},
   "outputs": [],
   "source": []
  }
 ],
 "metadata": {
  "kernelspec": {
   "display_name": "Python 3",
   "language": "python",
   "name": "python3"
  },
  "language_info": {
   "codemirror_mode": {
    "name": "ipython",
    "version": 3
   },
   "file_extension": ".py",
   "mimetype": "text/x-python",
   "name": "python",
   "nbconvert_exporter": "python",
   "pygments_lexer": "ipython3",
   "version": "3.7.3"
  }
 },
 "nbformat": 4,
 "nbformat_minor": 2
}
