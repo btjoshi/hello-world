{
 "cells": [
  {
   "cell_type": "code",
   "execution_count": 1,
   "metadata": {},
   "outputs": [
    {
     "data": {
      "text/html": [
       "<div>\n",
       "<style scoped>\n",
       "    .dataframe tbody tr th:only-of-type {\n",
       "        vertical-align: middle;\n",
       "    }\n",
       "\n",
       "    .dataframe tbody tr th {\n",
       "        vertical-align: top;\n",
       "    }\n",
       "\n",
       "    .dataframe thead th {\n",
       "        text-align: right;\n",
       "    }\n",
       "</style>\n",
       "<table border=\"1\" class=\"dataframe\">\n",
       "  <thead>\n",
       "    <tr style=\"text-align: right;\">\n",
       "      <th></th>\n",
       "      <th>Neighborhood</th>\n",
       "      <th>Exterior1st</th>\n",
       "      <th>YearBuilt</th>\n",
       "      <th>LotFrontage</th>\n",
       "      <th>GrLivArea</th>\n",
       "      <th>GarageArea</th>\n",
       "      <th>BedroomAbvGr</th>\n",
       "      <th>FullBath</th>\n",
       "      <th>OverallQual</th>\n",
       "      <th>HeatingQC</th>\n",
       "      <th>SalePrice</th>\n",
       "    </tr>\n",
       "  </thead>\n",
       "  <tbody>\n",
       "    <tr>\n",
       "      <th>0</th>\n",
       "      <td>CollgCr</td>\n",
       "      <td>VinylSd</td>\n",
       "      <td>2003</td>\n",
       "      <td>65.0</td>\n",
       "      <td>1710</td>\n",
       "      <td>548</td>\n",
       "      <td>3</td>\n",
       "      <td>2</td>\n",
       "      <td>7</td>\n",
       "      <td>Ex</td>\n",
       "      <td>208500</td>\n",
       "    </tr>\n",
       "    <tr>\n",
       "      <th>1</th>\n",
       "      <td>Veenker</td>\n",
       "      <td>MetalSd</td>\n",
       "      <td>1976</td>\n",
       "      <td>80.0</td>\n",
       "      <td>1262</td>\n",
       "      <td>460</td>\n",
       "      <td>3</td>\n",
       "      <td>2</td>\n",
       "      <td>6</td>\n",
       "      <td>Ex</td>\n",
       "      <td>181500</td>\n",
       "    </tr>\n",
       "    <tr>\n",
       "      <th>2</th>\n",
       "      <td>CollgCr</td>\n",
       "      <td>VinylSd</td>\n",
       "      <td>2001</td>\n",
       "      <td>68.0</td>\n",
       "      <td>1786</td>\n",
       "      <td>608</td>\n",
       "      <td>3</td>\n",
       "      <td>2</td>\n",
       "      <td>7</td>\n",
       "      <td>Ex</td>\n",
       "      <td>223500</td>\n",
       "    </tr>\n",
       "  </tbody>\n",
       "</table>\n",
       "</div>"
      ],
      "text/plain": [
       "  Neighborhood Exterior1st  YearBuilt  LotFrontage  GrLivArea  GarageArea  \\\n",
       "0      CollgCr     VinylSd       2003         65.0       1710         548   \n",
       "1      Veenker     MetalSd       1976         80.0       1262         460   \n",
       "2      CollgCr     VinylSd       2001         68.0       1786         608   \n",
       "\n",
       "   BedroomAbvGr  FullBath  OverallQual HeatingQC  SalePrice  \n",
       "0             3         2            7        Ex     208500  \n",
       "1             3         2            6        Ex     181500  \n",
       "2             3         2            7        Ex     223500  "
      ]
     },
     "execution_count": 1,
     "metadata": {},
     "output_type": "execute_result"
    }
   ],
   "source": [
    "import pandas as pd\n",
    "housing = pd.read_csv('housing_sample.csv')\n",
    "housing.head(3)"
   ]
  },
  {
   "cell_type": "code",
   "execution_count": 2,
   "metadata": {},
   "outputs": [
    {
     "data": {
      "text/plain": [
       "180921.19589041095"
      ]
     },
     "execution_count": 2,
     "metadata": {},
     "output_type": "execute_result"
    }
   ],
   "source": [
    "mean_price = housing['SalePrice'].mean()\n",
    "mean_price"
   ]
  },
  {
   "cell_type": "code",
   "execution_count": 3,
   "metadata": {},
   "outputs": [
    {
     "data": {
      "text/plain": [
       "120.57287807326834"
      ]
     },
     "execution_count": 3,
     "metadata": {},
     "output_type": "execute_result"
    }
   ],
   "source": [
    "price_per_sq_foot = (housing['SalePrice']/housing['GrLivArea']).mean()\n",
    "price_per_sq_foot"
   ]
  },
  {
   "cell_type": "code",
   "execution_count": 4,
   "metadata": {},
   "outputs": [
    {
     "data": {
      "text/plain": [
       "[139045.93222506394, 205017.30818965516, 281696.2429906542]"
      ]
     },
     "execution_count": 4,
     "metadata": {},
     "output_type": "execute_result"
    }
   ],
   "source": [
    "group_price = [housing.query('GrLivArea < 1500')['SalePrice'].mean(), \n",
    "             housing.query('1500 <= GrLivArea <= 2000')['SalePrice'].mean(),\n",
    "             housing.query('GrLivArea > 2000')['SalePrice'].mean()]\n",
    "group_price"
   ]
  },
  {
   "cell_type": "code",
   "execution_count": 5,
   "metadata": {},
   "outputs": [],
   "source": [
    "def model_1_simple_avg(sq_foot):\n",
    "    return round(mean_price, -3)\n",
    "def model_2_avg_ppsf(sq_foot):\n",
    "    return round(price_per_sq_foot * sq_foot, -3)\n",
    "def model_3_bin_avg(sq_foot):\n",
    "    cat = 0 if sq_foot < 1500 else 1 if sq_foot <= 2000 else 2\n",
    "    return round(group_price[cat], -3)"
   ]
  },
  {
   "cell_type": "code",
   "execution_count": 6,
   "metadata": {},
   "outputs": [
    {
     "data": {
      "text/html": [
       "<div>\n",
       "<style scoped>\n",
       "    .dataframe tbody tr th:only-of-type {\n",
       "        vertical-align: middle;\n",
       "    }\n",
       "\n",
       "    .dataframe tbody tr th {\n",
       "        vertical-align: top;\n",
       "    }\n",
       "\n",
       "    .dataframe thead th {\n",
       "        text-align: right;\n",
       "    }\n",
       "</style>\n",
       "<table border=\"1\" class=\"dataframe\">\n",
       "  <thead>\n",
       "    <tr style=\"text-align: right;\">\n",
       "      <th></th>\n",
       "      <th>model_1_simple_avg</th>\n",
       "      <th>model_2_avg_ppsf</th>\n",
       "      <th>model_3_bin_avg</th>\n",
       "    </tr>\n",
       "  </thead>\n",
       "  <tbody>\n",
       "    <tr>\n",
       "      <th>1000</th>\n",
       "      <td>181000.0</td>\n",
       "      <td>121000.0</td>\n",
       "      <td>139000.0</td>\n",
       "    </tr>\n",
       "    <tr>\n",
       "      <th>1500</th>\n",
       "      <td>181000.0</td>\n",
       "      <td>181000.0</td>\n",
       "      <td>205000.0</td>\n",
       "    </tr>\n",
       "    <tr>\n",
       "      <th>2000</th>\n",
       "      <td>181000.0</td>\n",
       "      <td>241000.0</td>\n",
       "      <td>205000.0</td>\n",
       "    </tr>\n",
       "    <tr>\n",
       "      <th>2500</th>\n",
       "      <td>181000.0</td>\n",
       "      <td>301000.0</td>\n",
       "      <td>282000.0</td>\n",
       "    </tr>\n",
       "    <tr>\n",
       "      <th>3000</th>\n",
       "      <td>181000.0</td>\n",
       "      <td>362000.0</td>\n",
       "      <td>282000.0</td>\n",
       "    </tr>\n",
       "  </tbody>\n",
       "</table>\n",
       "</div>"
      ],
      "text/plain": [
       "      model_1_simple_avg  model_2_avg_ppsf  model_3_bin_avg\n",
       "1000            181000.0          121000.0         139000.0\n",
       "1500            181000.0          181000.0         205000.0\n",
       "2000            181000.0          241000.0         205000.0\n",
       "2500            181000.0          301000.0         282000.0\n",
       "3000            181000.0          362000.0         282000.0"
      ]
     },
     "execution_count": 6,
     "metadata": {},
     "output_type": "execute_result"
    }
   ],
   "source": [
    "sq_feet = range(1000, 3500, 500)\n",
    "models = [model_1_simple_avg, model_2_avg_ppsf, model_3_bin_avg]\n",
    "#data = {model.__name__: map(model(sq_foot), sq_feet) for model in models}\n",
    "data = {model.__name__: [model(sq) for sq in sq_feet] for model in models}\n",
    "df_predictions = pd.DataFrame(data=data, index=sq_feet)\n",
    "df_predictions"
   ]
  },
  {
   "cell_type": "code",
   "execution_count": 7,
   "metadata": {},
   "outputs": [
    {
     "data": {
      "text/html": [
       "<div>\n",
       "<style scoped>\n",
       "    .dataframe tbody tr th:only-of-type {\n",
       "        vertical-align: middle;\n",
       "    }\n",
       "\n",
       "    .dataframe tbody tr th {\n",
       "        vertical-align: top;\n",
       "    }\n",
       "\n",
       "    .dataframe thead th {\n",
       "        text-align: right;\n",
       "    }\n",
       "</style>\n",
       "<table border=\"1\" class=\"dataframe\">\n",
       "  <thead>\n",
       "    <tr style=\"text-align: right;\">\n",
       "      <th></th>\n",
       "      <th>Neighborhood</th>\n",
       "      <th>Exterior1st</th>\n",
       "      <th>YearBuilt</th>\n",
       "      <th>LotFrontage</th>\n",
       "      <th>GrLivArea</th>\n",
       "      <th>GarageArea</th>\n",
       "      <th>BedroomAbvGr</th>\n",
       "      <th>FullBath</th>\n",
       "      <th>OverallQual</th>\n",
       "      <th>HeatingQC</th>\n",
       "      <th>SalePrice</th>\n",
       "    </tr>\n",
       "  </thead>\n",
       "  <tbody>\n",
       "    <tr>\n",
       "      <th>0</th>\n",
       "      <td>CollgCr</td>\n",
       "      <td>VinylSd</td>\n",
       "      <td>2003</td>\n",
       "      <td>65.0</td>\n",
       "      <td>1710</td>\n",
       "      <td>548</td>\n",
       "      <td>3</td>\n",
       "      <td>2</td>\n",
       "      <td>7</td>\n",
       "      <td>Ex</td>\n",
       "      <td>208500</td>\n",
       "    </tr>\n",
       "    <tr>\n",
       "      <th>1</th>\n",
       "      <td>Veenker</td>\n",
       "      <td>MetalSd</td>\n",
       "      <td>1976</td>\n",
       "      <td>80.0</td>\n",
       "      <td>1262</td>\n",
       "      <td>460</td>\n",
       "      <td>3</td>\n",
       "      <td>2</td>\n",
       "      <td>6</td>\n",
       "      <td>Ex</td>\n",
       "      <td>181500</td>\n",
       "    </tr>\n",
       "    <tr>\n",
       "      <th>2</th>\n",
       "      <td>CollgCr</td>\n",
       "      <td>VinylSd</td>\n",
       "      <td>2001</td>\n",
       "      <td>68.0</td>\n",
       "      <td>1786</td>\n",
       "      <td>608</td>\n",
       "      <td>3</td>\n",
       "      <td>2</td>\n",
       "      <td>7</td>\n",
       "      <td>Ex</td>\n",
       "      <td>223500</td>\n",
       "    </tr>\n",
       "  </tbody>\n",
       "</table>\n",
       "</div>"
      ],
      "text/plain": [
       "  Neighborhood Exterior1st  YearBuilt  LotFrontage  GrLivArea  GarageArea  \\\n",
       "0      CollgCr     VinylSd       2003         65.0       1710         548   \n",
       "1      Veenker     MetalSd       1976         80.0       1262         460   \n",
       "2      CollgCr     VinylSd       2001         68.0       1786         608   \n",
       "\n",
       "   BedroomAbvGr  FullBath  OverallQual HeatingQC  SalePrice  \n",
       "0             3         2            7        Ex     208500  \n",
       "1             3         2            6        Ex     181500  \n",
       "2             3         2            7        Ex     223500  "
      ]
     },
     "execution_count": 7,
     "metadata": {},
     "output_type": "execute_result"
    }
   ],
   "source": [
    "import pandas as pd\n",
    "housing = pd.read_csv('housing_sample.csv')\n",
    "housing.head(3)"
   ]
  },
  {
   "cell_type": "code",
   "execution_count": 8,
   "metadata": {},
   "outputs": [],
   "source": [
    "mean_price = housing['SalePrice'].mean()\n",
    "price_per_sq_foot = (housing['SalePrice'] / housing['GrLivArea']).mean()\n",
    "group_price = [housing.query('GrLivArea < 1500')['SalePrice'].mean(),\n",
    "               housing.query('1500 <= GrLivArea <= 2000')['SalePrice'].mean(),\n",
    "               housing.query('GrLivArea > 2000')['SalePrice'].mean()]\n",
    "\n",
    "def model_1_simple_avg(sq_foot):\n",
    "    return round(mean_price, -3)\n",
    "\n",
    "def model_2_avg_ppsf(sq_foot):\n",
    "    return round(price_per_sq_foot * sq_foot, -3)\n",
    "\n",
    "def model_3_bin_avg(sq_foot):\n",
    "    cat = 0 if sq_foot < 1500 else 1 if sq_foot <= 2000 else 2\n",
    "    return group_price[cat]"
   ]
  },
  {
   "cell_type": "code",
   "execution_count": 9,
   "metadata": {},
   "outputs": [],
   "source": [
    "import numpy as np\n",
    "def make_prediction(model, X):\n",
    "    return np.array([model(x) for x in X])"
   ]
  },
  {
   "cell_type": "code",
   "execution_count": 10,
   "metadata": {},
   "outputs": [],
   "source": [
    "X = [1200, 1800, 2750]"
   ]
  },
  {
   "cell_type": "code",
   "execution_count": 11,
   "metadata": {},
   "outputs": [
    {
     "data": {
      "text/plain": [
       "array([145000., 217000., 332000.])"
      ]
     },
     "execution_count": 11,
     "metadata": {},
     "output_type": "execute_result"
    }
   ],
   "source": [
    "make_prediction(model_2_avg_ppsf, X)"
   ]
  },
  {
   "cell_type": "code",
   "execution_count": 12,
   "metadata": {},
   "outputs": [
    {
     "data": {
      "text/plain": [
       "array([206000., 152000., 215000., 207000., 265000.])"
      ]
     },
     "execution_count": 12,
     "metadata": {},
     "output_type": "execute_result"
    }
   ],
   "source": [
    "#backtesting on labelled data\n",
    "X = housing['GrLivArea']\n",
    "y_pred = make_prediction(model_2_avg_ppsf, X)\n",
    "y_pred[:5]"
   ]
  },
  {
   "cell_type": "code",
   "execution_count": 13,
   "metadata": {},
   "outputs": [
    {
     "data": {
      "text/plain": [
       "0    208500\n",
       "1    181500\n",
       "2    223500\n",
       "3    140000\n",
       "4    250000\n",
       "Name: SalePrice, dtype: int64"
      ]
     },
     "execution_count": 13,
     "metadata": {},
     "output_type": "execute_result"
    }
   ],
   "source": [
    "y = housing['SalePrice']\n",
    "y[:5]"
   ]
  },
  {
   "cell_type": "code",
   "execution_count": 14,
   "metadata": {},
   "outputs": [],
   "source": [
    "import matplotlib.pyplot as plt\n",
    "%matplotlib inline\n",
    "def plot_pred_vs_actual(model, n=20):\n",
    "    housing_sample = housing.sample(n, random_state=123)\n",
    "    X = housing_sample['GrLivArea']\n",
    "    y = housing_sample['SalePrice']\n",
    "    y_pred = make_prediction(model, X)\n",
    "    \n",
    "    fig, ax = plt.subplots(figsize=(12,5))\n",
    "    ax.scatter(X, y, marker='o', label='Ground Truth')\n",
    "    ax.scatter(X, y_pred, label='Prediction')\n",
    "    ax.vlines(X, y, y_pred, linestyle='--', label='error')\n",
    "    \n",
    "    ax.set_title(f\"Random {n} poins from {model.__name__}\")\n",
    "    ax.set_xlabel('Square Feet')\n",
    "    ax.set_ylabel('Sale Price')\n",
    "    ax.legend() "
   ]
  },
  {
   "cell_type": "code",
   "execution_count": 15,
   "metadata": {},
   "outputs": [
    {
     "data": {
      "image/png": "[encoded data removed]",
      "text/plain": [
       "<Figure size 864x360 with 1 Axes>"
      ]
     },
     "metadata": {
      "needs_background": "light"
     },
     "output_type": "display_data"
    }
   ],
   "source": [
    "plot_pred_vs_actual(model_1_simple_avg)"
   ]
  },
  {
   "cell_type": "code",
   "execution_count": 16,
   "metadata": {},
   "outputs": [
    {
     "data": {
      "image/png": "[encoded data removed]",
      "text/plain": [
       "<Figure size 864x360 with 1 Axes>"
      ]
     },
     "metadata": {
      "needs_background": "light"
     },
     "output_type": "display_data"
    }
   ],
   "source": [
    "plot_pred_vs_actual(model_2_avg_ppsf)"
   ]
  },
  {
   "cell_type": "code",
   "execution_count": 17,
   "metadata": {},
   "outputs": [
    {
     "data": {
      "image/png": "[encoded data removed]",
      "text/plain": [
       "<Figure size 864x360 with 1 Axes>"
      ]
     },
     "metadata": {
      "needs_background": "light"
     },
     "output_type": "display_data"
    }
   ],
   "source": [
    "plot_pred_vs_actual(model_3_bin_avg)"
   ]
  },
  {
   "cell_type": "code",
   "execution_count": 18,
   "metadata": {},
   "outputs": [],
   "source": [
    "#least square error\n",
    "def sse(X, y, model):\n",
    "    y_pred = make_prediction(model, X) \n",
    "    error = y - y_pred \n",
    "    squared_error = error ** 2 \n",
    "    return squared_error.sum() "
   ]
  },
  {
   "cell_type": "code",
   "execution_count": 19,
   "metadata": {},
   "outputs": [
    {
     "data": {
      "text/plain": [
       "model_1_simple_avg    9.207920e+12\n",
       "model_2_avg_ppsf      4.662359e+12\n",
       "model_3_bin_avg       5.393935e+12\n",
       "dtype: float64"
      ]
     },
     "execution_count": 19,
     "metadata": {},
     "output_type": "execute_result"
    }
   ],
   "source": [
    "X = housing['GrLivArea']\n",
    "y = housing['SalePrice']\n",
    "models = [model_1_simple_avg, model_2_avg_ppsf, model_3_bin_avg]\n",
    "model_sse = pd.Series({model.__name__: sse(X, y, model) for model in models})\n",
    "model_sse"
   ]
  },
  {
   "cell_type": "code",
   "execution_count": 20,
   "metadata": {},
   "outputs": [
    {
     "data": {
      "text/plain": [
       "<matplotlib.axes._subplots.AxesSubplot at 0x1a02503df60>"
      ]
     },
     "execution_count": 20,
     "metadata": {},
     "output_type": "execute_result"
    },
    {
     "data": {
      "image/png": "[encoded data removed]",
      "text/plain": [
       "<Figure size 720x288 with 1 Axes>"
      ]
     },
     "metadata": {
      "needs_background": "light"
     },
     "output_type": "display_data"
    }
   ],
   "source": [
    "model_sse.plot(kind='bar', figsize=(10, 4), title='SSError for 3 Models', rot=0)"
   ]
  },
  {
   "cell_type": "code",
   "execution_count": 21,
   "metadata": {},
   "outputs": [],
   "source": [
    "#another measure is root of the mean of squared errors\n",
    "def rmse(X, y, model):\n",
    "    y_pred = make_prediction(model, X)\n",
    "    error = y - y_pred\n",
    "    squared_error = error ** 2\n",
    "    mse = squared_error.mean()\n",
    "    return np.sqrt(mse)"
   ]
  },
  {
   "cell_type": "code",
   "execution_count": 22,
   "metadata": {},
   "outputs": [
    {
     "data": {
      "text/plain": [
       "model_1_simple_avg    79415.330985\n",
       "model_2_avg_ppsf      56510.145963\n",
       "model_3_bin_avg       60782.203726\n",
       "dtype: float64"
      ]
     },
     "execution_count": 22,
     "metadata": {},
     "output_type": "execute_result"
    }
   ],
   "source": [
    "model_rmse = pd.Series({model.__name__: rmse(X, y, model) for model in models})\n",
    "model_rmse"
   ]
  },
  {
   "cell_type": "code",
   "execution_count": 23,
   "metadata": {},
   "outputs": [
    {
     "data": {
      "text/plain": [
       "<matplotlib.axes._subplots.AxesSubplot at 0x1a024e0b358>"
      ]
     },
     "execution_count": 23,
     "metadata": {},
     "output_type": "execute_result"
    },
    {
     "data": {
      "image/png": "[encoded data removed]",
      "text/plain": [
       "<Figure size 576x288 with 1 Axes>"
      ]
     },
     "metadata": {
      "needs_background": "light"
     },
     "output_type": "display_data"
    }
   ],
   "source": [
    "model_rmse.plot(kind='bar', figsize=(8, 4), title=\"Root mean square of 3 Models\", rot=0)"
   ]
  },
  {
   "cell_type": "code",
   "execution_count": 24,
   "metadata": {},
   "outputs": [],
   "source": [
    "def plot_errors(X, y, models, error_func):\n",
    "    errors=pd.Series({model.__name__: error_func(X, y, model) for model in models})\n",
    "    errors.plot(kind='bar', figsize=(8,4), title=error_func.__name__, rot=0)"
   ]
  },
  {
   "cell_type": "code",
   "execution_count": 25,
   "metadata": {},
   "outputs": [
    {
     "data": {
      "image/png": "[encoded data removed]",
      "text/plain": [
       "<Figure size 576x288 with 1 Axes>"
      ]
     },
     "metadata": {
      "needs_background": "light"
     },
     "output_type": "display_data"
    }
   ],
   "source": [
    "plot_errors(X, y, models, rmse)"
   ]
  },
  {
   "cell_type": "code",
   "execution_count": 26,
   "metadata": {},
   "outputs": [
    {
     "data": {
      "image/png": "[encoded data removed]",
      "text/plain": [
       "<Figure size 576x288 with 1 Axes>"
      ]
     },
     "metadata": {
      "needs_background": "light"
     },
     "output_type": "display_data"
    }
   ],
   "source": [
    "plot_errors(X, y, models, sse)"
   ]
  },
  {
   "cell_type": "code",
   "execution_count": 27,
   "metadata": {},
   "outputs": [
    {
     "data": {
      "text/html": [
       "<div>\n",
       "<style scoped>\n",
       "    .dataframe tbody tr th:only-of-type {\n",
       "        vertical-align: middle;\n",
       "    }\n",
       "\n",
       "    .dataframe tbody tr th {\n",
       "        vertical-align: top;\n",
       "    }\n",
       "\n",
       "    .dataframe thead th {\n",
       "        text-align: right;\n",
       "    }\n",
       "</style>\n",
       "<table border=\"1\" class=\"dataframe\">\n",
       "  <thead>\n",
       "    <tr style=\"text-align: right;\">\n",
       "      <th></th>\n",
       "      <th>Neighborhood</th>\n",
       "      <th>Exterior1st</th>\n",
       "      <th>YearBuilt</th>\n",
       "      <th>LotFrontage</th>\n",
       "      <th>GrLivArea</th>\n",
       "      <th>GarageArea</th>\n",
       "      <th>BedroomAbvGr</th>\n",
       "      <th>FullBath</th>\n",
       "      <th>OverallQual</th>\n",
       "      <th>HeatingQC</th>\n",
       "      <th>SalePrice</th>\n",
       "    </tr>\n",
       "  </thead>\n",
       "  <tbody>\n",
       "    <tr>\n",
       "      <th>0</th>\n",
       "      <td>CollgCr</td>\n",
       "      <td>VinylSd</td>\n",
       "      <td>2003</td>\n",
       "      <td>65.0</td>\n",
       "      <td>1710</td>\n",
       "      <td>548</td>\n",
       "      <td>3</td>\n",
       "      <td>2</td>\n",
       "      <td>7</td>\n",
       "      <td>Ex</td>\n",
       "      <td>208500</td>\n",
       "    </tr>\n",
       "    <tr>\n",
       "      <th>1</th>\n",
       "      <td>Veenker</td>\n",
       "      <td>MetalSd</td>\n",
       "      <td>1976</td>\n",
       "      <td>80.0</td>\n",
       "      <td>1262</td>\n",
       "      <td>460</td>\n",
       "      <td>3</td>\n",
       "      <td>2</td>\n",
       "      <td>6</td>\n",
       "      <td>Ex</td>\n",
       "      <td>181500</td>\n",
       "    </tr>\n",
       "    <tr>\n",
       "      <th>2</th>\n",
       "      <td>CollgCr</td>\n",
       "      <td>VinylSd</td>\n",
       "      <td>2001</td>\n",
       "      <td>68.0</td>\n",
       "      <td>1786</td>\n",
       "      <td>608</td>\n",
       "      <td>3</td>\n",
       "      <td>2</td>\n",
       "      <td>7</td>\n",
       "      <td>Ex</td>\n",
       "      <td>223500</td>\n",
       "    </tr>\n",
       "  </tbody>\n",
       "</table>\n",
       "</div>"
      ],
      "text/plain": [
       "  Neighborhood Exterior1st  YearBuilt  LotFrontage  GrLivArea  GarageArea  \\\n",
       "0      CollgCr     VinylSd       2003         65.0       1710         548   \n",
       "1      Veenker     MetalSd       1976         80.0       1262         460   \n",
       "2      CollgCr     VinylSd       2001         68.0       1786         608   \n",
       "\n",
       "   BedroomAbvGr  FullBath  OverallQual HeatingQC  SalePrice  \n",
       "0             3         2            7        Ex     208500  \n",
       "1             3         2            6        Ex     181500  \n",
       "2             3         2            7        Ex     223500  "
      ]
     },
     "execution_count": 27,
     "metadata": {},
     "output_type": "execute_result"
    }
   ],
   "source": [
    "import pandas as pd\n",
    "%matplotlib inline\n",
    "housing = pd.read_csv('housing_sample.csv')\n",
    "housing[:3]"
   ]
  },
  {
   "cell_type": "code",
   "execution_count": 28,
   "metadata": {},
   "outputs": [
    {
     "data": {
      "text/plain": [
       "(1460, 11)"
      ]
     },
     "execution_count": 28,
     "metadata": {},
     "output_type": "execute_result"
    }
   ],
   "source": [
    "housing.shape"
   ]
  },
  {
   "cell_type": "code",
   "execution_count": 29,
   "metadata": {},
   "outputs": [
    {
     "data": {
      "text/plain": [
       "Neighborhood     object\n",
       "Exterior1st      object\n",
       "YearBuilt         int64\n",
       "LotFrontage     float64\n",
       "GrLivArea         int64\n",
       "GarageArea        int64\n",
       "BedroomAbvGr      int64\n",
       "FullBath          int64\n",
       "OverallQual       int64\n",
       "HeatingQC        object\n",
       "SalePrice         int64\n",
       "dtype: object"
      ]
     },
     "execution_count": 29,
     "metadata": {},
     "output_type": "execute_result"
    }
   ],
   "source": [
    "housing.dtypes"
   ]
  },
  {
   "cell_type": "code",
   "execution_count": 30,
   "metadata": {},
   "outputs": [
    {
     "data": {
      "text/plain": [
       "Neighborhood      0\n",
       "Exterior1st       0\n",
       "YearBuilt         0\n",
       "LotFrontage     259\n",
       "GrLivArea         0\n",
       "GarageArea        0\n",
       "BedroomAbvGr      0\n",
       "FullBath          0\n",
       "OverallQual       0\n",
       "HeatingQC         0\n",
       "SalePrice         0\n",
       "dtype: int64"
      ]
     },
     "execution_count": 30,
     "metadata": {},
     "output_type": "execute_result"
    }
   ],
   "source": [
    "#pandas isna() method converts all the values in a DataDrame to True or False based on whether they are missing or not \n",
    "housing.isna().sum()"
   ]
  },
  {
   "cell_type": "markdown",
   "metadata": {},
   "source": [
    "# Kind of data\n",
    "\n",
    "$ Continuous\\  data $ are always numeric and don’t have a limited, known, and discrete set of possibilities. \n",
    "- There is also a natural ordering to the numbers, where larger values mean ‘more’ of that column. \n",
    "- Columns like GrLivArea or GarageArea are continuous as there is no known distinct set of values these columns will hold.\n",
    "\n",
    "\n",
    "$ Categorical\\  columns $ have discrete values. \n",
    "- The set of discrete values is usually known and limited. \n",
    "- All columns containing strings are necessarily categorical, but numeric columns can be categorical as well. \n",
    "- Neighborhood, Exterior1st, and HeatingQC are categorical since they contain strings.\n",
    "\n",
    "If integers/numericals in a column are discrete, all the values are known, and they are limited, they can be categorical.\n",
    "\n",
    "Although its possible for a house to have any number of bathrooms or bedrooms, these columns are much closer to the categorical\n",
    "column definition than the continuous one. \n",
    "\n",
    "Within categorical, there are two further classifications, ordinal and nominal variables. \n",
    "- Ordinal variables have a particular ordering such as a rating on a survey or quality of a house.\n",
    "- Nominal variables do not have any inherent ordering. Type of neighborhood or exterior of a house, or zip code\n",
    "are examples of nominal variables. \n",
    "\n",
    "As we continue along our EDA, we will label each column we see as continuous, ordinal, or nominal."
   ]
  },
  {
   "cell_type": "markdown",
   "metadata": {},
   "source": [
    "# Univariate data analyses\n",
    "\n",
    "For continuous data, understand its distribution by:\n",
    "- Finding summary statistics - min, max, mean, median, standard deviation\n",
    "- Making boxplots, histograms, and Kernel-density estimate plots\n",
    "\n",
    "For categorical data, \n",
    "- look at the frequency of each category \n",
    "- and if numeric will sometimes one can compute the same summary statistics as continuous data (especially if it is ordinal). \n",
    "\n",
    "Explore each column at a time"
   ]
  },
  {
   "cell_type": "code",
   "execution_count": 31,
   "metadata": {},
   "outputs": [
    {
     "data": {
      "text/plain": [
       "NAmes      0.154\n",
       "CollgCr    0.103\n",
       "OldTown    0.077\n",
       "Edwards    0.068\n",
       "Somerst    0.059\n",
       "Name: Neighborhood, dtype: float64"
      ]
     },
     "execution_count": 31,
     "metadata": {},
     "output_type": "execute_result"
    }
   ],
   "source": [
    "#Neighborhood\n",
    "housing['Neighborhood'].value_counts(normalize=True).round(3).head()"
   ]
  },
  {
   "cell_type": "code",
   "execution_count": 32,
   "metadata": {},
   "outputs": [
    {
     "data": {
      "text/plain": [
       "<matplotlib.axes._subplots.AxesSubplot at 0x1a024e3a198>"
      ]
     },
     "execution_count": 32,
     "metadata": {},
     "output_type": "execute_result"
    },
    {
     "data": {
      "image/png": "[encoded data removed]",
      "text/plain": [
       "<Figure size 720x288 with 1 Axes>"
      ]
     },
     "metadata": {
      "needs_background": "light"
     },
     "output_type": "display_data"
    }
   ],
   "source": [
    "housing['Neighborhood'].value_counts(normalize=True).plot(kind='bar', figsize=(10,4))"
   ]
  },
  {
   "cell_type": "code",
   "execution_count": 33,
   "metadata": {},
   "outputs": [
    {
     "data": {
      "text/plain": [
       "VinylSd    515\n",
       "HdBoard    222\n",
       "MetalSd    220\n",
       "Wd Sdng    206\n",
       "Plywood    108\n",
       "CemntBd     61\n",
       "BrkFace     50\n",
       "WdShing     26\n",
       "Stucco      25\n",
       "AsbShng     20\n",
       "Name: Exterior1st, dtype: int64"
      ]
     },
     "execution_count": 33,
     "metadata": {},
     "output_type": "execute_result"
    }
   ],
   "source": [
    "#Exterior1st\n",
    "housing['Exterior1st'].value_counts().head(10)"
   ]
  },
  {
   "cell_type": "code",
   "execution_count": 34,
   "metadata": {},
   "outputs": [
    {
     "data": {
      "text/plain": [
       "<matplotlib.axes._subplots.AxesSubplot at 0x1a024ebff60>"
      ]
     },
     "execution_count": 34,
     "metadata": {},
     "output_type": "execute_result"
    },
    {
     "data": {
      "image/png": "[encoded data removed]",
      "text/plain": [
       "<Figure size 720x288 with 1 Axes>"
      ]
     },
     "metadata": {
      "needs_background": "light"
     },
     "output_type": "display_data"
    }
   ],
   "source": [
    "housing['Exterior1st'].value_counts(normalize=True).plot(kind='bar', figsize=(10, 4))"
   ]
  },
  {
   "cell_type": "code",
   "execution_count": 35,
   "metadata": {},
   "outputs": [
    {
     "data": {
      "text/plain": [
       "112"
      ]
     },
     "execution_count": 35,
     "metadata": {},
     "output_type": "execute_result"
    }
   ],
   "source": [
    "housing['YearBuilt'].nunique()"
   ]
  },
  {
   "cell_type": "code",
   "execution_count": 36,
   "metadata": {},
   "outputs": [
    {
     "data": {
      "text/plain": [
       "2006    67\n",
       "2005    64\n",
       "2004    54\n",
       "2007    49\n",
       "2003    45\n",
       "1976    33\n",
       "1977    32\n",
       "1920    30\n",
       "1959    26\n",
       "1999    25\n",
       "Name: YearBuilt, dtype: int64"
      ]
     },
     "execution_count": 36,
     "metadata": {},
     "output_type": "execute_result"
    }
   ],
   "source": [
    "housing['YearBuilt'].value_counts().head(10)"
   ]
  },
  {
   "cell_type": "code",
   "execution_count": 37,
   "metadata": {},
   "outputs": [
    {
     "data": {
      "text/plain": [
       "<matplotlib.axes._subplots.AxesSubplot at 0x1a0260866d8>"
      ]
     },
     "execution_count": 37,
     "metadata": {},
     "output_type": "execute_result"
    },
    {
     "data": {
      "image/png": "[encoded data removed]",
      "text/plain": [
       "<Figure size 576x288 with 1 Axes>"
      ]
     },
     "metadata": {
      "needs_background": "light"
     },
     "output_type": "display_data"
    }
   ],
   "source": [
    "housing['YearBuilt'].plot(kind='hist', bins=20, figsize=(8,4))"
   ]
  },
  {
   "cell_type": "code",
   "execution_count": 38,
   "metadata": {},
   "outputs": [
    {
     "data": {
      "text/plain": [
       "min    1872\n",
       "max    2010\n",
       "Name: YearBuilt, dtype: int64"
      ]
     },
     "execution_count": 38,
     "metadata": {},
     "output_type": "execute_result"
    }
   ],
   "source": [
    "housing['YearBuilt'].agg(['min', 'max'])"
   ]
  },
  {
   "cell_type": "code",
   "execution_count": 39,
   "metadata": {},
   "outputs": [
    {
     "data": {
      "text/plain": [
       "(1969, 1999]    412\n",
       "(1999, 2010]    388\n",
       "(1949, 1969]    342\n",
       "(1899, 1934]    192\n",
       "(1934, 1949]    111\n",
       "(1871, 1899]     15\n",
       "Name: YearBuilt, dtype: int64"
      ]
     },
     "execution_count": 39,
     "metadata": {},
     "output_type": "execute_result"
    }
   ],
   "source": [
    "bins = [1871, 1899, 1934, 1949, 1969, 1999, 2010]\n",
    "pd.cut(housing['YearBuilt'], bins).value_counts()"
   ]
  },
  {
   "cell_type": "code",
   "execution_count": 40,
   "metadata": {},
   "outputs": [
    {
     "data": {
      "text/plain": [
       "(1871, 1899]    0.01\n",
       "(1899, 1934]    0.13\n",
       "(1934, 1949]    0.08\n",
       "(1949, 1969]    0.23\n",
       "(1969, 1999]    0.28\n",
       "(1999, 2010]    0.27\n",
       "Name: YearBuilt, dtype: float64"
      ]
     },
     "execution_count": 40,
     "metadata": {},
     "output_type": "execute_result"
    }
   ],
   "source": [
    "pd.cut(housing['YearBuilt'], bins).value_counts(normalize=True).sort_index().round(2)"
   ]
  },
  {
   "cell_type": "code",
   "execution_count": 41,
   "metadata": {},
   "outputs": [
    {
     "data": {
      "text/plain": [
       "<matplotlib.axes._subplots.AxesSubplot at 0x1a02612a128>"
      ]
     },
     "execution_count": 41,
     "metadata": {},
     "output_type": "execute_result"
    },
    {
     "data": {
      "image/png": "[encoded data removed]",
      "text/plain": [
       "<Figure size 432x288 with 1 Axes>"
      ]
     },
     "metadata": {
      "needs_background": "light"
     },
     "output_type": "display_data"
    }
   ],
   "source": [
    "housing['LotFrontage'].plot(kind='kde', xlim=(0,300))"
   ]
  },
  {
   "cell_type": "code",
   "execution_count": 42,
   "metadata": {},
   "outputs": [
    {
     "data": {
      "text/plain": [
       "<matplotlib.axes._subplots.AxesSubplot at 0x1a024f9f0b8>"
      ]
     },
     "execution_count": 42,
     "metadata": {},
     "output_type": "execute_result"
    },
    {
     "data": {
      "image/png": "[encoded data removed]",
      "text/plain": [
       "<Figure size 720x288 with 1 Axes>"
      ]
     },
     "metadata": {
      "needs_background": "light"
     },
     "output_type": "display_data"
    }
   ],
   "source": [
    "housing['LotFrontage'].plot(kind='box', vert=False, figsize=(10,4))"
   ]
  },
  {
   "cell_type": "code",
   "execution_count": 68,
   "metadata": {},
   "outputs": [
    {
     "data": {
      "text/plain": [
       "<matplotlib.axes._subplots.AxesSubplot at 0x1e6fb822278>"
      ]
     },
     "execution_count": 68,
     "metadata": {},
     "output_type": "execute_result"
    },
    {
     "data": {
      "image/png": "[encoded data removed]",
      "text/plain": [
       "<Figure size 432x288 with 1 Axes>"
      ]
     },
     "metadata": {
      "needs_background": "light"
     },
     "output_type": "display_data"
    }
   ],
   "source": [
    "housing['GrLivArea'].plot(kind='hist', bins=20)"
   ]
  },
  {
   "cell_type": "code",
   "execution_count": 43,
   "metadata": {},
   "outputs": [
    {
     "data": {
      "image/png": "[encoded data removed]",
      "text/plain": [
       "<Figure size 720x288 with 1 Axes>"
      ]
     },
     "metadata": {
      "needs_background": "light"
     },
     "output_type": "display_data"
    }
   ],
   "source": [
    "housing['GrLivArea'].plot(kind='hist', bins=20, density=True, figsize=(10,4))\n",
    "housing['GrLivArea'].plot(kind='kde', linewidth=4, xlim=(0,5000));"
   ]
  },
  {
   "cell_type": "code",
   "execution_count": 76,
   "metadata": {},
   "outputs": [
    {
     "ename": "TypeError",
     "evalue": "aggregate() missing 1 required positional argument: 'arg'",
     "output_type": "error",
     "traceback": [
      "\u001b[1;31m---------------------------------------------------------------------------\u001b[0m",
      "\u001b[1;31mTypeError\u001b[0m                                 Traceback (most recent call last)",
      "\u001b[1;32m<ipython-input-76-5b409a72d0b7>\u001b[0m in \u001b[0;36m<module>\u001b[1;34m\u001b[0m\n\u001b[1;32m----> 1\u001b[1;33m \u001b[0mhousing\u001b[0m\u001b[1;33m.\u001b[0m\u001b[0mgroupby\u001b[0m\u001b[1;33m(\u001b[0m\u001b[1;34m'Neighborhood'\u001b[0m\u001b[1;33m)\u001b[0m\u001b[1;33m.\u001b[0m\u001b[0magg\u001b[0m\u001b[1;33m(\u001b[0m\u001b[0mmean_price\u001b[0m\u001b[1;33m=\u001b[0m\u001b[1;33m(\u001b[0m\u001b[1;34m'SalePrice'\u001b[0m\u001b[1;33m,\u001b[0m \u001b[1;34m'mean'\u001b[0m\u001b[1;33m)\u001b[0m\u001b[1;33m)\u001b[0m\u001b[0;31m \u001b[0m\u001b[0;31m\\\u001b[0m\u001b[1;33m\u001b[0m\u001b[1;33m\u001b[0m\u001b[0m\n\u001b[0m\u001b[0;32m      2\u001b[0m \u001b[1;33m.\u001b[0m\u001b[0msort_values\u001b[0m\u001b[1;33m(\u001b[0m\u001b[1;34m'mean_price'\u001b[0m\u001b[1;33m)\u001b[0m\u001b[1;33m.\u001b[0m\u001b[0mplot\u001b[0m\u001b[1;33m(\u001b[0m\u001b[0mkind\u001b[0m\u001b[1;33m=\u001b[0m\u001b[1;34m'bar'\u001b[0m\u001b[1;33m,\u001b[0m \u001b[0mfigsize\u001b[0m\u001b[1;33m=\u001b[0m\u001b[1;33m(\u001b[0m\u001b[1;36m10\u001b[0m\u001b[1;33m,\u001b[0m \u001b[1;36m4\u001b[0m\u001b[1;33m)\u001b[0m\u001b[1;33m)\u001b[0m\u001b[1;33m;\u001b[0m\u001b[1;33m\u001b[0m\u001b[1;33m\u001b[0m\u001b[0m\n",
      "\u001b[1;31mTypeError\u001b[0m: aggregate() missing 1 required positional argument: 'arg'"
     ]
    }
   ],
   "source": [
    "housing.groupby('Neighborhood').agg(mean_price=('SalePrice', 'mean')) \\\n",
    ".sort_values('mean_price').plot(kind='bar', figsize=(10, 4));"
   ]
  },
  {
   "cell_type": "code",
   "execution_count": null,
   "metadata": {},
   "outputs": [],
   "source": []
  }
 ],
 "metadata": {
  "kernelspec": {
   "display_name": "Python 3",
   "language": "python",
   "name": "python3"
  },
  "language_info": {
   "codemirror_mode": {
    "name": "ipython",
    "version": 3
   },
   "file_extension": ".py",
   "mimetype": "text/x-python",
   "name": "python",
   "nbconvert_exporter": "python",
   "pygments_lexer": "ipython3",
   "version": "3.7.3"
  }
 },
 "nbformat": 4,
 "nbformat_minor": 2
}
