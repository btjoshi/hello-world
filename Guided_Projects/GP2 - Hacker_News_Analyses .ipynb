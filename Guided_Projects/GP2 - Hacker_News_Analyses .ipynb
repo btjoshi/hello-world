{
 "cells": [
  {
   "cell_type": "code",
   "execution_count": 1,
   "metadata": {},
   "outputs": [],
   "source": [
    "#Reading files from python\n",
    "import os\n",
    "from csv import reader\n",
    "\n",
    "## I have stored path name in absolute path, needs to change in other machines\n",
    "path = 'C:\\\\Users\\\\btjos\\\\Documents\\\\Git_Data\\\\'"
   ]
  },
  {
   "cell_type": "markdown",
   "metadata": {},
   "source": [
    "![Hacker_News](path/hacker_news.jpg)\n",
    "\n",
    "# Hacker News \n",
    "\n",
    "Hacker News is a site started by the startup incubator Y Combinator, where user-submitted stories (known as \"posts\") are voted and commented upon, similar to reddit. Hacker News is extremely popular in technology and startup circles, and posts that make it to the top of Hacker News' listings can get hundreds of thousands of visitors as a result.\n",
    "\n",
    "You can find the data set here[https://www.kaggle.com/hacker-news/hacker-news-posts], but the dataset has  all submissions that did not receive any comments removed, and then randomly sampled the remaining submissions. \n",
    "\n",
    "Columns are:\n",
    "- id: The unique identifier from Hacker News for the post\n",
    "- title: The title of the post\n",
    "- url: The URL that the posts links to, if it the post has a URL\n",
    "- num_points: The number of points the post acquired, calculated as the total number of upvotes minus the total number of downvotes\n",
    "- num_comments: The number of comments that were made on the post\n",
    "- author: The username of the person who submitted the post\n",
    "- created_at: The date and time at which the post was submitted\n",
    "\n",
    "Couple examples posts:\n",
    "- Ask HN: How to improve my personal website?\n",
    "- Ask HN: Am I the only one outraged by Twitter shutting down share counts?\n",
    "- Ask HN: Aby recent changes to CSS that broke mobile?\n",
    "- Show HN: Wio Link  ESP8266 Based Web of Things Hardware Development Platform'\n",
    "- Show HN: Something pointless I made\n",
    "- Show HN: Shanhu.io, a programming playground powered by e8vm\n",
    "\n",
    "## Analyse these two types of posts to determine:\n",
    "\n",
    "- Do Ask HN or Show HN receive more comments on average?\n",
    "- Do posts created at a certain time receive more comments on average?"
   ]
  },
  {
   "cell_type": "markdown",
   "metadata": {},
   "source": [
    "# Leranings/code snippet repository\n",
    "\n",
    "1. datetime utilities"
   ]
  },
  {
   "cell_type": "code",
   "execution_count": 3,
   "metadata": {},
   "outputs": [
    {
     "data": {
      "text/plain": [
       "[['id', 'title', 'url', 'num_points', 'num_comments', 'author', 'created_at'],\n",
       " ['12224879',\n",
       "  'Interactive Dynamic Video',\n",
       "  'http://www.interactivedynamicvideo.com/',\n",
       "  '386',\n",
       "  '52',\n",
       "  'ne0phyte',\n",
       "  '8/4/2016 11:52'],\n",
       " ['10975351',\n",
       "  'How to Use Open Source and Shut the Fuck Up at the Same Time',\n",
       "  'http://hueniverse.com/2016/01/26/how-to-use-open-source-and-shut-the-fuck-up-at-the-same-time/',\n",
       "  '39',\n",
       "  '10',\n",
       "  'josep2',\n",
       "  '1/26/2016 19:30']]"
      ]
     },
     "execution_count": 3,
     "metadata": {},
     "output_type": "execute_result"
    }
   ],
   "source": [
    "# read from file \n",
    "opened_file = open(path + 'hacker_news.csv', encoding='utf8')\n",
    "hn_file = reader(opened_file)\n",
    "hn = list(hn_file)\n",
    "hn[0:3]"
   ]
  },
  {
   "cell_type": "code",
   "execution_count": 4,
   "metadata": {},
   "outputs": [
    {
     "name": "stdout",
     "output_type": "stream",
     "text": [
      "['id', 'title', 'url', 'num_points', 'num_comments', 'author', 'created_at']\n",
      "['12224879', 'Interactive Dynamic Video', 'http://www.interactivedynamicvideo.com/', '386', '52', 'ne0phyte', '8/4/2016 11:52']\n"
     ]
    }
   ],
   "source": [
    "# analyzing text fields, hence headers removed from the data\n",
    "headers = hn[0]\n",
    "print(headers)\n",
    "del hn[0]\n",
    "print(hn[0])"
   ]
  },
  {
   "cell_type": "code",
   "execution_count": 22,
   "metadata": {},
   "outputs": [
    {
     "name": "stdout",
     "output_type": "stream",
     "text": [
      "Number of posts 20100\n",
      "Number of ask_hn posts 1744\n",
      "Number of show_hn posts 1162\n",
      "Number of other posts 17194\n"
     ]
    }
   ],
   "source": [
    "# filter the posts\n",
    "ask_posts = []\n",
    "show_posts = []\n",
    "other_posts = []\n",
    "\n",
    "for row in hn:\n",
    "    title = row[1]\n",
    "    if title.lower().startswith('ask hn'):\n",
    "        ask_posts.append(row)\n",
    "    elif title.lower().startswith('show hn'):\n",
    "        show_posts.append(row)\n",
    "    else:\n",
    "        other_posts.append(row)\n",
    "\n",
    "print('Number of posts', len(hn))\n",
    "print('Number of ask_hn posts', len(ask_posts))\n",
    "print('Number of show_hn posts', len(show_posts))\n",
    "print('Number of other posts', len(other_posts))"
   ]
  },
  {
   "cell_type": "markdown",
   "metadata": {},
   "source": [
    "### Exploring average comments\n",
    "\n",
    "pandas should provide shorter code and better vectorized way for finding averages"
   ]
  },
  {
   "cell_type": "markdown",
   "metadata": {},
   "source": [
    "total_ask_comments = 0\n",
    "for row in ask_posts:\n",
    "    total_ask_comments = total_ask_comments + float(row[4])\n",
    "avg_ask_comments = total_ask_comments / len(ask_posts)\n",
    "print(round(avg_ask_comments), 2)\n",
    "\n",
    "total_show_comments = 0\n",
    "for row in show_posts:\n",
    "    total_show_comments = total_show_comments + float(row[4])\n",
    "avg_show_comments = total_show_comments / len(show_posts)\n",
    "print(round(avg_show_comments),2)"
   ]
  },
  {
   "cell_type": "markdown",
   "metadata": {},
   "source": [
    "ask posts receive more comments. further diging into if there is better time to post these ask posts..."
   ]
  },
  {
   "cell_type": "code",
   "execution_count": 40,
   "metadata": {},
   "outputs": [
    {
     "data": {
      "text/plain": [
       "[['8/16/2016 9:55', 6], ['11/22/2015 13:43', 29], ['5/2/2016 10:14', 1]]"
      ]
     },
     "execution_count": 40,
     "metadata": {},
     "output_type": "execute_result"
    }
   ],
   "source": [
    "import datetime as dt\n",
    "result_list = []\n",
    "for row in ask_posts:\n",
    "    result_list.append([row[6], int(row[4])])\n",
    "\n",
    "result_list[0:3]"
   ]
  },
  {
   "cell_type": "code",
   "execution_count": 53,
   "metadata": {},
   "outputs": [],
   "source": [
    "## note the date_format: %Y as against %y\n",
    "counts_by_hour = {}\n",
    "comments_by_hour = {}\n",
    "\n",
    "for row in result_list: \n",
    "    date_format = \"%m/%d/%Y %H:%M\"\n",
    "    time = dt.datetime.strptime(row[0], date_format)\n",
    "    hour = time.hour\n",
    "    \n",
    "    if hour in counts_by_hour:\n",
    "        counts_by_hour[hour] +=1\n",
    "        comments_by_hour[hour] = comments_by_hour[hour] + row[1]\n",
    "    else:\n",
    "        counts_by_hour[hour] =1\n",
    "        comments_by_hour[hour] = row[1]"
   ]
  },
  {
   "cell_type": "code",
   "execution_count": 56,
   "metadata": {},
   "outputs": [
    {
     "name": "stdout",
     "output_type": "stream",
     "text": [
      "{9: 5.58, 13: 14.74, 10: 13.44, 14: 13.23, 16: 16.8, 23: 7.99, 12: 9.41, 17: 11.46, 15: 38.59, 21: 16.01, 20: 21.52, 2: 23.81, 18: 13.2, 3: 7.8, 5: 10.09, 19: 10.8, 1: 11.38, 22: 6.75, 8: 10.25, 4: 7.17, 0: 8.13, 6: 9.02, 7: 7.85, 11: 11.05}\n"
     ]
    }
   ],
   "source": [
    "avg_by_hour = {}\n",
    "for hour in counts_by_hour:\n",
    "    avg_comments = round(comments_by_hour[hour]/counts_by_hour[hour], 2)\n",
    "    avg_by_hour[hour] = avg_comments\n",
    "print(avg_by_hour)"
   ]
  },
  {
   "cell_type": "markdown",
   "metadata": {},
   "source": [
    "Dictionaties can't be sorted, hence creating a swapped and ordered dictionary"
   ]
  },
  {
   "cell_type": "code",
   "execution_count": 58,
   "metadata": {},
   "outputs": [
    {
     "name": "stdout",
     "output_type": "stream",
     "text": [
      "{5.58: 9, 14.74: 13, 13.44: 10, 13.23: 14, 16.8: 16, 7.99: 23, 9.41: 12, 11.46: 17, 38.59: 15, 16.01: 21, 21.52: 20, 23.81: 2, 13.2: 18, 7.8: 3, 10.09: 5, 10.8: 19, 11.38: 1, 6.75: 22, 10.25: 8, 7.17: 4, 8.13: 0, 9.02: 6, 7.85: 7, 11.05: 11}\n"
     ]
    }
   ],
   "source": [
    "swap_avg_by_hour = {}\n",
    "for hour in avg_by_hour:\n",
    "    swap_avg_by_hour[avg_by_hour[hour]] = hour\n",
    "print(swap_avg_by_hour)"
   ]
  },
  {
   "cell_type": "code",
   "execution_count": 59,
   "metadata": {},
   "outputs": [],
   "source": [
    "sorted_swap = sorted(swap_avg_by_hour, reverse=True)"
   ]
  },
  {
   "cell_type": "code",
   "execution_count": 61,
   "metadata": {},
   "outputs": [
    {
     "name": "stdout",
     "output_type": "stream",
     "text": [
      "Top 5 Hours for Ask Posts Comments\n",
      "At  15   38.59 avg comments were posted\n",
      "At  2   23.81 avg comments were posted\n",
      "At  20   21.52 avg comments were posted\n",
      "At  16   16.8 avg comments were posted\n",
      "At  21   16.01 avg comments were posted\n",
      "At  13   14.74 avg comments were posted\n"
     ]
    }
   ],
   "source": [
    "print(\"Top 5 Hours for Ask Posts Comments\")\n",
    "for row in sorted_swap[0:6]:\n",
    "    print('At ', swap_avg_by_hour[row], \" \", row, 'avg comments were posted')"
   ]
  },
  {
   "cell_type": "code",
   "execution_count": null,
   "metadata": {},
   "outputs": [],
   "source": [
    "### Complete using pandas methods"
   ]
  }
 ],
 "metadata": {
  "kernelspec": {
   "display_name": "Python 3",
   "language": "python",
   "name": "python3"
  },
  "language_info": {
   "codemirror_mode": {
    "name": "ipython",
    "version": 3
   },
   "file_extension": ".py",
   "mimetype": "text/x-python",
   "name": "python",
   "nbconvert_exporter": "python",
   "pygments_lexer": "ipython3",
   "version": "3.7.3"
  }
 },
 "nbformat": 4,
 "nbformat_minor": 2
}
