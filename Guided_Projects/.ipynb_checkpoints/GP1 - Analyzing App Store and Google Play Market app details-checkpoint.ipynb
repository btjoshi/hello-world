{
 "cells": [
  {
   "cell_type": "markdown",
   "metadata": {},
   "source": [
    "### What this project is about:\n",
    "Analysing the app details from Google Play market and Apple App Store. Trying to find what kind of Apps have more traction.\n",
    "\n",
    "Sources: \n",
    "A data set containing data about approximately 10,000 Android apps from Google Play; the data was collected in August 2018. [https://www.kaggle.com/lava18/google-play-store-apps]\n",
    "\n",
    "A data set containing data about approximately 7,000 iOS apps from the App Store; the data was collected in July 2017. [https://www.kaggle.com/ramamet4/app-store-apple-data-set-10k-apps]"
   ]
  },
  {
   "cell_type": "markdown",
   "metadata": {},
   "source": [
    "### Learnings and my code repository pieces\n",
    "\n",
    "I am starting from pretty basic skill for practicing. WIll keep on adding better method I discover for taksk to do.\n",
    "\n",
    "1. Accessing data files in another location\n",
    "2. Reading csv files in python\n",
    "3. Finding duplicate entries for a column in a list of lists \n",
    "4. list comprehension as filter to chose rows\n",
    "5. dicts used to develop unique key and histogram\n",
    "6. Burying hyperlinks! [Clickable_visible_hyperlink](Hidden_landing_URL)"
   ]
  },
  {
   "cell_type": "markdown",
   "metadata": {},
   "source": [
    "#### Reading files into python lists\n",
    "\n",
    "Reading files from Python: Compared to lists here, pandas read_csv() returns DataFrame"
   ]
  },
  {
   "cell_type": "code",
   "execution_count": 1,
   "metadata": {},
   "outputs": [],
   "source": [
    "#Reading files from python\n",
    "import os\n",
    "from csv import reader\n",
    "\n",
    "## I have stored path name in absolute path, needs to change in other machines\n",
    "path = 'C:\\\\Users\\\\btjos\\\\Documents\\\\Git_Data\\\\'"
   ]
  },
  {
   "cell_type": "code",
   "execution_count": 2,
   "metadata": {},
   "outputs": [],
   "source": [
    "#Google Playstore \n",
    "opened_file = open(path + 'googleplaystore.csv', encoding='utf8')\n",
    "android_file = reader(opened_file)\n",
    "android = list(android_file)\n",
    "\n",
    "#AppStore\n",
    "ios_file = reader(open(path + 'AppleStore.csv', encoding='utf8'))\n",
    "ios = list(ios_file)"
   ]
  },
  {
   "cell_type": "code",
   "execution_count": 3,
   "metadata": {},
   "outputs": [
    {
     "name": "stdout",
     "output_type": "stream",
     "text": [
      "Rows in android:  10842 & columns:  13\n",
      "Rows in ios:  7198 & columns:  16\n",
      "['App', 'Category', 'Rating', 'Reviews', 'Size', 'Installs', 'Type', 'Price', 'Content Rating', 'Genres', 'Last Updated', 'Current Ver', 'Android Ver']\n",
      "['Photo Editor & Candy Camera & Grid & ScrapBook', 'ART_AND_DESIGN', '4.1', '159', '19M', '10,000+', 'Free', '0', 'Everyone', 'Art & Design', 'January 7, 2018', '1.0.0', '4.0.3 and up'] \n",
      "\n",
      "['id', 'track_name', 'size_bytes', 'currency', 'price', 'rating_count_tot', 'rating_count_ver', 'user_rating', 'user_rating_ver', 'ver', 'cont_rating', 'prime_genre', 'sup_devices.num', 'ipadSc_urls.num', 'lang.num', 'vpp_lic']\n",
      "['284882215', 'Facebook', '389879808', 'USD', '0.0', '2974676', '212', '3.5', '3.5', '95.0', '4+', 'Social Networking', '37', '1', '29', '1']\n"
     ]
    }
   ],
   "source": [
    "print('Rows in android: ', len(android), '& columns: ', len(android[0]))\n",
    "print('Rows in ios: ', len(ios), '& columns: ', len(ios[0]))\n",
    "print(android[0])\n",
    "print(android[1], '\\n')\n",
    "print(ios[0])\n",
    "print(ios[1])\n",
    "# Good descriptive statistics are shown on these data sites"
   ]
  },
  {
   "cell_type": "markdown",
   "metadata": {},
   "source": [
    "### Cleaning up data\n",
    "\n",
    "the mentioned websites have good summary of data. Need to\n",
    "1. remove noted error rows\n",
    "2. remove duplicate rows\n",
    "3. remove non-english and paying apps, as english and free apps only are explored further"
   ]
  },
  {
   "cell_type": "code",
   "execution_count": 4,
   "metadata": {},
   "outputs": [
    {
     "name": "stdout",
     "output_type": "stream",
     "text": [
      "['App', 'Category', 'Rating', 'Reviews', 'Size', 'Installs', 'Type', 'Price', 'Content Rating', 'Genres', 'Last Updated', 'Current Ver', 'Android Ver'] \n",
      "\n",
      "['Life Made WI-Fi Touchscreen Photo Frame', '1.9', '19', '3.0M', '1,000+', 'Free', '0', 'Everyone', '', 'February 11, 2018', '1.0.19', '4.0 and up']\n",
      "['osmino Wi-Fi: free WiFi', 'TOOLS', '4.2', '134203', '4.1M', '10,000,000+', 'Free', '0', 'Everyone', 'Tools', 'August 7, 2018', '6.06.14', '4.4 and up']\n"
     ]
    }
   ],
   "source": [
    "print(android[0], '\\n')\n",
    "print(android[10473])\n",
    "#documented in site, app entry 'Life Made WI-Fi Touchscreen Photo Frame' has wrong rating. deleted.\n",
    "del android[10473]\n",
    "print(android[10473])"
   ]
  },
  {
   "cell_type": "code",
   "execution_count": 5,
   "metadata": {},
   "outputs": [
    {
     "name": "stdout",
     "output_type": "stream",
     "text": [
      "Number of duplicate apps:  1181 \n",
      "\n",
      "Some of duplicate apps: \n",
      "\n",
      "['Quick PDF Scanner + OCR FREE', 'Box', 'Google My Business', 'ZOOM Cloud Meetings', 'join.me - Simple Meetings', 'Box', 'Zenefits', 'Google Ads', 'Google My Business', 'Slack', 'FreshBooks Classic', 'Insightly CRM', 'QuickBooks Accounting: Invoicing & Expenses', 'HipChat - Chat Built for Teams', 'Xero Accounting Software', 'MailChimp - Email, Marketing Automation', 'Crew - Free Messaging and Scheduling', 'Asana: organize team projects', 'Google Analytics', 'AdWords Express']\n"
     ]
    }
   ],
   "source": [
    "# 17 Jan 2020 - loopiong through lists\n",
    "unique_apps = []\n",
    "dup_apps = []\n",
    "# for row in android:\n",
    "#     app = row[0]\n",
    "#     if app in unique_apps:\n",
    "#         dup_apps.append(app)\n",
    "#     else:\n",
    "#         unique_apps.append(app)\n",
    "\n",
    "# 18 Jan 2020 - can the if loop be fit in a line? Works!!\n",
    "for row in android:\n",
    "    app = row[0]\n",
    "    dup_apps.append(app) if app in unique_apps else unique_apps.append(app)\n",
    "\n",
    "print('Number of duplicate apps: ', len(dup_apps), '\\n')\n",
    "print('Some of duplicate apps:')\n",
    "print(dup_apps[:20])"
   ]
  },
  {
   "cell_type": "markdown",
   "metadata": {},
   "source": [
    "### Duplicate entries for apps in 'android' \n",
    "\n",
    "They they differ in number of reviews collected at different points of time, only maximum number of reviews row is retained for further analyses.\n",
    "\n",
    "A dictionary is used to store app_names and reviews. While cycling through each row, \n",
    "1. if already added, then current review is compared with already stored number of reviews. If current record has higher number of reviews then the number of values is updated in the dictionary.\n",
    "2. if not already added, the row is added to dictionary \n"
   ]
  },
  {
   "cell_type": "code",
   "execution_count": 6,
   "metadata": {},
   "outputs": [
    {
     "name": "stdout",
     "output_type": "stream",
     "text": [
      "9659\n",
      "9659\n"
     ]
    },
    {
     "data": {
      "text/plain": [
       "['Photo Editor & Candy Camera & Grid & ScrapBook',\n",
       " 'U Launcher Lite – FREE Live Cool Themes, Hide Apps',\n",
       " 'Sketch - Draw & Paint',\n",
       " 'Pixel Draw - Number Art Coloring Book',\n",
       " 'Paper flowers instructions']"
      ]
     },
     "execution_count": 6,
     "metadata": {},
     "output_type": "execute_result"
    }
   ],
   "source": [
    "# create a dictionary to collect rows to be retained\n",
    "reviews_max = {}\n",
    "for row in android[1:]:\n",
    "    app_name = row[0]\n",
    "    n_reviews = float(row[3])\n",
    "    if (app_name in reviews_max) and (reviews_max[app_name] < n_reviews):\n",
    "        reviews_max[app_name] = n_reviews\n",
    "    if app_name not in reviews_max:\n",
    "        reviews_max[app_name] = n_reviews\n",
    "print(len(reviews_max))\n",
    "\n",
    "android_clean = []\n",
    "already_added = []\n",
    "for row in android[1:]:\n",
    "    app_name = row[0]\n",
    "    n_reviews = float(row[3])\n",
    "    if (reviews_max[app_name] == n_reviews) and (app_name not in already_added):\n",
    "        android_clean.append(row)\n",
    "        already_added.append(app_name)\n",
    "print(len(android_clean))\n",
    "already_added[0:5]"
   ]
  },
  {
   "cell_type": "markdown",
   "metadata": {},
   "source": [
    "### Removing non-english apps.\n",
    "\n",
    "For removing non-English apps, a helper function is created that returns if any non-English charecters are present. All English texts are encoded using the ASCII standard with a corresponding number between 0 and 127. \n",
    "\n",
    "But some of the app names would include charecters like Go™ or smileys and other charecters. To include them an app name is excluded if has more than 3 non-english charecters. Some genuine apps might be excluded too, but the impact would be minimal."
   ]
  },
  {
   "cell_type": "code",
   "execution_count": 7,
   "metadata": {},
   "outputs": [
    {
     "name": "stdout",
     "output_type": "stream",
     "text": [
      "True\n",
      "True\n"
     ]
    }
   ],
   "source": [
    "# helper function\n",
    "def is_english(string):\n",
    "    non_ascii = 0\n",
    "    for charecter in string:\n",
    "        if ord(charecter) > 127:\n",
    "               non_ascii +=1\n",
    "    \n",
    "    if non_ascii > 3:\n",
    "        return False \n",
    "    else: \n",
    "        return True\n",
    "print(is_english('Docs To Go™ Free Office Suite'))\n",
    "print(is_english('Instachat 😜'))"
   ]
  },
  {
   "cell_type": "code",
   "execution_count": 8,
   "metadata": {},
   "outputs": [
    {
     "name": "stdout",
     "output_type": "stream",
     "text": [
      "android_clean rows:  9659\n",
      "android_english rows:  9614 \n",
      "\n",
      "ios rows:  7198\n",
      "ios_english rows:  6184\n"
     ]
    }
   ],
   "source": [
    "android_english = []\n",
    "ios_english = []\n",
    "\n",
    "for row in android_clean:\n",
    "    if is_english(row[0]):\n",
    "        android_english.append(row)\n",
    "print('android_clean rows: ', len(android_clean))\n",
    "print('android_english rows: ', len(android_english), '\\n')\n",
    "for row in ios:\n",
    "    if is_english(row[1]):\n",
    "        ios_english.append(row)\n",
    "print('ios rows: ', len(ios))\n",
    "print('ios_english rows: ', len(ios_english))"
   ]
  },
  {
   "cell_type": "code",
   "execution_count": 9,
   "metadata": {},
   "outputs": [
    {
     "name": "stdout",
     "output_type": "stream",
     "text": [
      "android_clean rows:  9659\n",
      "android_english rows:  9614 \n",
      "\n",
      "ios rows:  7198\n",
      "ios_english rows:  6184\n"
     ]
    }
   ],
   "source": [
    "# how about list comprehension? works!!!! \n",
    "#### Explore for dict comprehension too\n",
    "android_english = [row for row in android_clean if is_english(row[0])]\n",
    "print('android_clean rows: ', len(android_clean))\n",
    "print('android_english rows: ', len(android_english), '\\n')\n",
    "\n",
    "ios_english = [row for row in ios if is_english(row[1])]\n",
    "print('ios rows: ', len(ios))\n",
    "print('ios_english rows: ', len(ios_english))"
   ]
  },
  {
   "cell_type": "markdown",
   "metadata": {},
   "source": [
    "### Removing paid apps\n",
    "\n"
   ]
  },
  {
   "cell_type": "code",
   "execution_count": 10,
   "metadata": {},
   "outputs": [
    {
     "name": "stdout",
     "output_type": "stream",
     "text": [
      "android_english rows:  9614\n",
      "android_final rows:  8864 \n",
      "\n",
      "ios_english rows:  6184\n",
      "ios_final rows:  3222\n"
     ]
    }
   ],
   "source": [
    "android_final = [row for row in android_english if row[7] == '0']\n",
    "print('android_english rows: ', len(android_english))\n",
    "print('android_final rows: ', len(android_final), '\\n')\n",
    "\n",
    "ios_final = [row for row in ios_english if row[4] == '0.0']\n",
    "print('ios_english rows: ', len(ios_english))\n",
    "print('ios_final rows: ', len(ios_final))"
   ]
  },
  {
   "cell_type": "markdown",
   "metadata": {},
   "source": [
    "## What kind of apps attract more people?\n",
    "\n",
    "Free apps get revenue by adds, hence influenced by number of people installing and reviewing the apps.\n",
    "\n",
    "A good entry strategy could be:\n",
    "1. build minimal version and add it to Google Pay, which has majority users\n",
    "2. Develop further if response is good\n",
    "3. If successful, launch iOS version.\n",
    "\n",
    "#### Begin with popular genre types\n",
    "\n",
    "Andoid fields: \n",
    "'App', [1]'Category', 'Rating', [3]'Reviews', 'Size', [5]'Installs', 'Type', 'Price', 'Content Rating', [9]'Genres', 'Last Updated', 'Current Ver', 'Android Ver'\n",
    "\n",
    "\n",
    "iOS fields:\n",
    "'id', 'track_name', 'size_bytes', 'currency', 'price', [5]'rating_count_tot', 'rating_count_ver', [7]'user_rating', 'user_rating_ver', 'ver', 'cont_rating', [11]'prime_genre', 'sup_devices.num', 'ipadSc_urls.num', 'lang.num', 'vpp_lic'\n",
    "\n",
    "#### helper functions are developed to generate frequency tables and then display sorted percentages\n",
    "\n"
   ]
  },
  {
   "cell_type": "code",
   "execution_count": 19,
   "metadata": {},
   "outputs": [],
   "source": [
    "def freq_table(dataset, index):\n",
    "    table = {}\n",
    "    total = 0\n",
    "    for row in dataset:\n",
    "        total += 1\n",
    "        value = row[index]\n",
    "        if value in table:\n",
    "            table[value] += 1\n",
    "        else:\n",
    "            table[value] = 1\n",
    "    \n",
    "    table_percentages = {}\n",
    "    for key in table:\n",
    "        percentage = (table[key]/total) * 100\n",
    "        table_percentages[key] = percentage\n",
    "    return table_percentages\n",
    "\n",
    "# dicts are hard to display sorted, hence put into list as tuples\n",
    "def display_table(dataset, index):\n",
    "    table = freq_table(dataset, index)\n",
    "    table_display = []\n",
    "    for key in table:\n",
    "        key_val_as_tuple = (table[key], key)\n",
    "        table_display.append(key_val_as_tuple)\n",
    "        \n",
    "    table_sorted = sorted(table_display, reverse = True)\n",
    "    for entry in table_sorted:\n",
    "        print(entry[1], ':', entry[0])"
   ]
  },
  {
   "cell_type": "code",
   "execution_count": 22,
   "metadata": {},
   "outputs": [
    {
     "name": "stdout",
     "output_type": "stream",
     "text": [
      "Games : 58.16263190564867\n",
      "Entertainment : 7.883302296710118\n",
      "Photo & Video : 4.9658597144630665\n",
      "Education : 3.662321539416512\n",
      "Social Networking : 3.2898820608317814\n",
      "Shopping : 2.60707635009311\n",
      "Utilities : 2.5139664804469275\n",
      "Sports : 2.1415270018621975\n",
      "Music : 2.0484171322160147\n",
      "Health & Fitness : 2.0173805090006205\n",
      "Productivity : 1.7380509000620732\n",
      "Lifestyle : 1.5828677839851024\n",
      "News : 1.3345747982619491\n",
      "Travel : 1.2414649286157666\n",
      "Finance : 1.1173184357541899\n",
      "Weather : 0.8690254500310366\n",
      "Food & Drink : 0.8069522036002483\n",
      "Reference : 0.5586592178770949\n",
      "Business : 0.5276225946617008\n",
      "Book : 0.4345127250155183\n",
      "Navigation : 0.186219739292365\n",
      "Medical : 0.186219739292365\n",
      "Catalogs : 0.12414649286157665\n"
     ]
    },
    {
     "data": {
      "text/plain": [
       "NoneType"
      ]
     },
     "execution_count": 22,
     "metadata": {},
     "output_type": "execute_result"
    }
   ],
   "source": [
    "display_table(ios_final, -5)"
   ]
  },
  {
   "cell_type": "code",
   "execution_count": 23,
   "metadata": {},
   "outputs": [],
   "source": [
    "### Explore and develop this further"
   ]
  },
  {
   "cell_type": "code",
   "execution_count": null,
   "metadata": {},
   "outputs": [],
   "source": []
  }
 ],
 "metadata": {
  "kernelspec": {
   "display_name": "Python 3",
   "language": "python",
   "name": "python3"
  },
  "language_info": {
   "codemirror_mode": {
    "name": "ipython",
    "version": 3
   },
   "file_extension": ".py",
   "mimetype": "text/x-python",
   "name": "python",
   "nbconvert_exporter": "python",
   "pygments_lexer": "ipython3",
   "version": "3.7.3"
  }
 },
 "nbformat": 4,
 "nbformat_minor": 2
}
