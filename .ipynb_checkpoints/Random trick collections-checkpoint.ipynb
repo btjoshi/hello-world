{
 "cells": [
  {
   "cell_type": "markdown",
   "metadata": {},
   "source": [
    "List Comprehension"
   ]
  },
  {
   "cell_type": "code",
   "execution_count": 4,
   "metadata": {},
   "outputs": [
    {
     "data": {
      "text/plain": [
       "[7, 5, 5, 7]"
      ]
     },
     "execution_count": 4,
     "metadata": {},
     "output_type": "execute_result"
    }
   ],
   "source": [
    "words = ['goodbye', 'cruel', 'world', 'testing']\n",
    "# creating a new list through list cpmrehension\n",
    "lengths = [len(x) for x in words]\n",
    "lengths"
   ]
  },
  {
   "cell_type": "code",
   "execution_count": 5,
   "metadata": {},
   "outputs": [
    {
     "data": {
      "text/plain": [
       "[7, 5, 5, 7, 7, 5, 5, 7]"
      ]
     },
     "execution_count": 5,
     "metadata": {},
     "output_type": "execute_result"
    }
   ],
   "source": [
    "# above done in traditional non-pythonic way\n",
    "lenghts = []\n",
    "for word in words:\n",
    "    lengths.append(len(word))\n",
    "lengths\n",
    "#also note the original entries are retianed"
   ]
  },
  {
   "cell_type": "markdown",
   "metadata": {},
   "source": [
    "You can also create dictionaries using the same list comprehension syntax. Notice that the key word and its value len(word) are separated with a colon :.\n",
    "\n",
    "Another trick for creating dictionaries is to zip two lists together."
   ]
  },
  {
   "cell_type": "code",
   "execution_count": 9,
   "metadata": {},
   "outputs": [
    {
     "name": "stdout",
     "output_type": "stream",
     "text": [
      "{'goodbye': 7, 'cruel': 5, 'world': 5, 'testing': 7}\n"
     ]
    },
    {
     "data": {
      "text/plain": [
       "{'hello': 5, 'old': 3, 'friend': 6, 'breathe': 7}"
      ]
     },
     "execution_count": 9,
     "metadata": {},
     "output_type": "execute_result"
    }
   ],
   "source": [
    "data1 = {word:len(word) for word in words}\n",
    "print(data)\n",
    "data2 = {zip()}\n",
    "words = [\"hello\", \"old\", \"friend\", \"breathe\"]\n",
    "lengths = [len(word) for word in words]\n",
    "data2 = dict(zip(words, lengths))\n",
    "data2"
   ]
  },
  {
   "cell_type": "markdown",
   "metadata": {},
   "source": [
    "### Lists can be used to fllter too"
   ]
  },
  {
   "cell_type": "code",
   "execution_count": 15,
   "metadata": {},
   "outputs": [
    {
     "name": "stdout",
     "output_type": "stream",
     "text": [
      "['deified', 'radar', 'nadan']\n",
      "{'deified': 7, 'radar': 5, 'nadan': 5}\n"
     ]
    }
   ],
   "source": [
    "# filtering for lists\n",
    "words = ['deified', 'radar', 'guns', 'nadan']\n",
    "palindromes = [word for word in words if word==word[::-1]]\n",
    "print(palindromes)\n",
    "## filtering for dictionaries\n",
    "data = {word: len(word) for word in words if len(word) > 4}\n",
    "print(data)"
   ]
  },
  {
   "cell_type": "markdown",
   "metadata": {},
   "source": [
    "### Even generators can be created by same syntax!\n",
    "\n",
    "Generators are iterables like lists, but the items inside a generator are only created when they’re actually used. After they’re used, they’re thrown away and not usable again.\n",
    "\n",
    "So generators take up less memory than a list, but you can only iterate over them one time.\n",
    "\n",
    "We’ve opened a large data file and created a generator object. The generator object will only contain lines that begin with 2020-01-01. Since we used a generator comprehension instead of a list comprehension, we didn’t need to read in the whole file.\n",
    "\n"
   ]
  },
  {
   "cell_type": "code",
   "execution_count": 16,
   "metadata": {},
   "outputs": [
    {
     "ename": "FileNotFoundError",
     "evalue": "[Errno 2] No such file or directory: 'bigdata.txt'",
     "output_type": "error",
     "traceback": [
      "\u001b[1;31m---------------------------------------------------------------------------\u001b[0m",
      "\u001b[1;31mFileNotFoundError\u001b[0m                         Traceback (most recent call last)",
      "\u001b[1;32m<ipython-input-16-4ec4ff8c8450>\u001b[0m in \u001b[0;36m<module>\u001b[1;34m\u001b[0m\n\u001b[1;32m----> 1\u001b[1;33m \u001b[0mtext\u001b[0m \u001b[1;33m=\u001b[0m \u001b[0mopen\u001b[0m\u001b[1;33m(\u001b[0m\u001b[1;34m\"bigdata.txt\"\u001b[0m\u001b[1;33m,\u001b[0m \u001b[1;34m\"r\"\u001b[0m\u001b[1;33m)\u001b[0m\u001b[1;33m\u001b[0m\u001b[1;33m\u001b[0m\u001b[0m\n\u001b[0m\u001b[0;32m      2\u001b[0m \u001b[0mlines\u001b[0m \u001b[1;33m=\u001b[0m \u001b[1;33m(\u001b[0m\u001b[0mline\u001b[0m \u001b[1;32mfor\u001b[0m \u001b[0mline\u001b[0m \u001b[1;32min\u001b[0m \u001b[0mtext\u001b[0m \u001b[1;32mif\u001b[0m \u001b[0mline\u001b[0m\u001b[1;33m.\u001b[0m\u001b[0mstartswith\u001b[0m\u001b[1;33m(\u001b[0m\u001b[1;34m\"2020-01-01\"\u001b[0m\u001b[1;33m)\u001b[0m\u001b[1;33m)\u001b[0m\u001b[1;33m\u001b[0m\u001b[1;33m\u001b[0m\u001b[0m\n",
      "\u001b[1;31mFileNotFoundError\u001b[0m: [Errno 2] No such file or directory: 'bigdata.txt'"
     ]
    }
   ],
   "source": [
    "text = open(\"bigdata.txt\", \"r\")\n",
    "lines = (line for line in text if line.startswith(\"2020-01-01\"))\n",
    "# to find average length, we can use a helper function\n",
    "def average_line_length(lines):\n",
    "    num_lines = 0\n",
    "    total_length = 0\n",
    "    for line in lines:\n",
    "        num_lines += 1\n",
    "        total_length += len(line)\n",
    "    return total_length / num_lines\n",
    "#We’ll pass in the lines generator now\n",
    "result = average_line_length(lines)\n",
    "# The advantage to using a generator comprehension is that we didn’t need to read in the large data file. \n",
    "# But we can still pass that generator to other functions that expect iterables, like the average_line_length function. "
   ]
  },
  {
   "cell_type": "code",
   "execution_count": 21,
   "metadata": {},
   "outputs": [],
   "source": [
    "# BAD CODE\n",
    "status = False\n",
    "if status: \n",
    "    # dosomething\n",
    "    pass\n",
    "else: \n",
    "    # dosomething\n",
    "    pass\n",
    "\n",
    "# GOOD CODE\n",
    "status = False\n",
    "#c = dosomething if status else dosomething\n",
    "\n",
    "### Reminder - dig more why dosomething if true else pass doesn't work. Is it because it is more like\n",
    "### issomething if something_is_true or somethingelse?"
   ]
  },
  {
   "cell_type": "code",
   "execution_count": 22,
   "metadata": {},
   "outputs": [
    {
     "data": {
      "text/plain": [
       "1000000"
      ]
     },
     "execution_count": 22,
     "metadata": {},
     "output_type": "execute_result"
    }
   ],
   "source": [
    "# It’s really difficult to keep track of the number of zeros or digits after a certain length. Now, here’s a trick:\n",
    "digit_1 = 10_00_000\n",
    "digit_1"
   ]
  },
  {
   "cell_type": "code",
   "execution_count": null,
   "metadata": {},
   "outputs": [],
   "source": []
  }
 ],
 "metadata": {
  "kernelspec": {
   "display_name": "Python 3",
   "language": "python",
   "name": "python3"
  },
  "language_info": {
   "codemirror_mode": {
    "name": "ipython",
    "version": 3
   },
   "file_extension": ".py",
   "mimetype": "text/x-python",
   "name": "python",
   "nbconvert_exporter": "python",
   "pygments_lexer": "ipython3",
   "version": "3.7.3"
  }
 },
 "nbformat": 4,
 "nbformat_minor": 2
}
