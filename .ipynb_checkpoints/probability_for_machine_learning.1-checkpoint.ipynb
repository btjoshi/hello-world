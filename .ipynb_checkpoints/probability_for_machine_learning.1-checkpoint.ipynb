{
 "cells": [
  {
   "cell_type": "markdown",
   "metadata": {},
   "source": [
    "How many people are required so that any two people in the group have the\n",
    "same birthday with at least a 50-50 chance?"
   ]
  },
  {
   "cell_type": "code",
   "execution_count": 4,
   "metadata": {},
   "outputs": [
    {
     "name": "stdout",
     "output_type": "stream",
     "text": [
      "n=2, 364/365, p=99.726, 1-p=0.274\n",
      "n=3, 363/365, p=99.180, 1-p=0.820\n",
      "n=4, 362/365, p=98.364, 1-p=1.636\n",
      "n=5, 361/365, p=97.286, 1-p=2.714\n",
      "n=6, 360/365, p=95.954, 1-p=4.046\n",
      "n=7, 359/365, p=94.376, 1-p=5.624\n",
      "n=8, 358/365, p=92.566, 1-p=7.434\n",
      "n=9, 357/365, p=90.538, 1-p=9.462\n",
      "n=10, 356/365, p=88.305, 1-p=11.695\n",
      "n=11, 355/365, p=85.886, 1-p=14.114\n",
      "n=12, 354/365, p=83.298, 1-p=16.702\n",
      "n=13, 353/365, p=80.559, 1-p=19.441\n",
      "n=14, 352/365, p=77.690, 1-p=22.310\n",
      "n=15, 351/365, p=74.710, 1-p=25.290\n",
      "n=16, 350/365, p=71.640, 1-p=28.360\n",
      "n=17, 349/365, p=68.499, 1-p=31.501\n",
      "n=18, 348/365, p=65.309, 1-p=34.691\n",
      "n=19, 347/365, p=62.088, 1-p=37.912\n",
      "n=20, 346/365, p=58.856, 1-p=41.144\n",
      "n=21, 345/365, p=55.631, 1-p=44.369\n",
      "n=22, 344/365, p=52.430, 1-p=47.570\n",
      "n=23, 343/365, p=49.270, 1-p=50.730\n",
      "n=24, 342/365, p=46.166, 1-p=53.834\n",
      "n=25, 341/365, p=43.130, 1-p=56.870\n",
      "n=26, 340/365, p=40.176, 1-p=59.824\n",
      "n=27, 339/365, p=37.314, 1-p=62.686\n",
      "n=28, 338/365, p=34.554, 1-p=65.446\n",
      "n=29, 337/365, p=31.903, 1-p=68.097\n",
      "n=30, 336/365, p=29.368, 1-p=70.632\n"
     ]
    }
   ],
   "source": [
    "n = 30            # group size\n",
    "days = 365        # days in a year\n",
    "p = 1.0           # probability of no two persons have same birthday\n",
    "for i in range(1,n):\n",
    "    available_days = days - i\n",
    "    p *= available_days / days\n",
    "    print('n=%d, %d/%d, p=%.3f, 1-p=%.3f' % (i+1, available_days, days, p*100, (1-p)*100))\n",
    "    "
   ]
  },
  {
   "cell_type": "markdown",
   "metadata": {},
   "source": [
    "# Binomial Distribution\n",
    "The repetition of multiple independent Bernoulli trials is called a Bernoulli process. The performance of a machine learning algorithm on a binary classification problem can be analyzed as a Bernoulli process, where the prediction by the model on an example from a test set is a Bernoulli trial (correct or incorrect). The Binomial distribution summarizes the number\n",
    "of successes k in a given number of Bernoulli trials n, with a given probability of success for each trial p."
   ]
  },
  {
   "cell_type": "code",
   "execution_count": 19,
   "metadata": {},
   "outputs": [
    {
     "name": "stdout",
     "output_type": "stream",
     "text": [
      "Total Successes: 29\n"
     ]
    }
   ],
   "source": [
    "from numpy.random import binomial\n",
    "p = 0.3\n",
    "k = 100\n",
    "success = binomial(k, p)\n",
    "print('Total Successes: %d' % success)"
   ]
  },
  {
   "cell_type": "code",
   "execution_count": 27,
   "metadata": {},
   "outputs": [
    {
     "name": "stdout",
     "output_type": "stream",
     "text": [
      "Mean=30.000, Variance=21.000\n"
     ]
    }
   ],
   "source": [
    "#calculating moments\n",
    "from scipy.stats import binom\n",
    "p = 0.3\n",
    "k = 100\n",
    "#mean, var, _, _ = binom.stats(k, p, momemts='mvsk')\n",
    "print('Mean=%.3f, Variance=%.3f' %(mean, var))"
   ]
  },
  {
   "cell_type": "code",
   "execution_count": 28,
   "metadata": {},
   "outputs": [
    {
     "name": "stdout",
     "output_type": "stream",
     "text": [
      "P of 10 success: 0.000%\n",
      "P of 20 success: 0.758%\n",
      "P of 30 success: 8.678%\n",
      "P of 40 success: 0.849%\n",
      "P of 50 success: 0.001%\n",
      "P of 60 success: 0.000%\n",
      "P of 70 success: 0.000%\n",
      "P of 80 success: 0.000%\n",
      "P of 90 success: 0.000%\n"
     ]
    }
   ],
   "source": [
    "#using probability mass function for binomial\n",
    "dist = binom(k, p)\n",
    "for n in range(10, 100, 10):\n",
    "    print('P of %d success: %.3f%%' % (n, dist.pmf(n)*100))\n"
   ]
  },
  {
   "cell_type": "code",
   "execution_count": 29,
   "metadata": {},
   "outputs": [
    {
     "name": "stdout",
     "output_type": "stream",
     "text": [
      "P of 10 or fewer success: 0.000%\n",
      "P of 20 or fewer success: 1.646%\n",
      "P of 30 or fewer success: 54.912%\n",
      "P of 40 or fewer success: 98.750%\n",
      "P of 50 or fewer success: 99.999%\n",
      "P of 60 or fewer success: 100.000%\n",
      "P of 70 or fewer success: 100.000%\n",
      "P of 80 or fewer success: 100.000%\n",
      "P of 90 or fewer success: 100.000%\n"
     ]
    }
   ],
   "source": [
    "# using cumulative distribution function\n",
    "for n in range(10, 100, 10):\n",
    "    print(\"P of %d or fewer success: %.3f%%\" % (n, dist.cdf(n)*100))"
   ]
  },
  {
   "cell_type": "markdown",
   "metadata": {},
   "source": [
    "# Multinomial Distribution\n",
    "The repetition of multiple independent Multinoulli trials will follow a multinomial distribution.\n",
    "The multinomial distribution is a generalization of the binomial distribution for a discrete variable with K outcomes. A common example of the multinomial distribution is the occurrence counts of words in a text document, from the field of natural language processing. A multinomial distribution is summarized by a discrete random variable with K outcomes, a probability for each outcome from p1 to pK, and n successive trials."
   ]
  },
  {
   "cell_type": "code",
   "execution_count": 31,
   "metadata": {},
   "outputs": [
    {
     "name": "stdout",
     "output_type": "stream",
     "text": [
      "Case 1: 30\n",
      "Case 2: 33\n",
      "Case 3: 37\n"
     ]
    }
   ],
   "source": [
    "# simulating a multinomial process\n",
    "from numpy.random import multinomial\n",
    "p = [1.0/3.0, 1.0/3.0, 1.0/3.0]\n",
    "k = 100\n",
    "cases = multinomial(k, p)\n",
    "for i in range(len(cases)):\n",
    "    print('Case %d: %d' %(i+1, cases[i]))"
   ]
  },
  {
   "cell_type": "code",
   "execution_count": 32,
   "metadata": {},
   "outputs": [
    {
     "name": "stdout",
     "output_type": "stream",
     "text": [
      "Case=[33, 33, 34], Probability: 0.813%\n"
     ]
    }
   ],
   "source": [
    "from scipy.stats import multinomial\n",
    "dist = multinomial(k, p)\n",
    "cases = [33, 33, 34]\n",
    "pr = dist.pmf(cases)\n",
    "print('Case=%s, Probability: %.3f%%' % (cases, pr*100)) "
   ]
  },
  {
   "cell_type": "code",
   "execution_count": null,
   "metadata": {},
   "outputs": [],
   "source": []
  }
 ],
 "metadata": {
  "kernelspec": {
   "display_name": "Python 3",
   "language": "python",
   "name": "python3"
  },
  "language_info": {
   "codemirror_mode": {
    "name": "ipython",
    "version": 3
   },
   "file_extension": ".py",
   "mimetype": "text/x-python",
   "name": "python",
   "nbconvert_exporter": "python",
   "pygments_lexer": "ipython3",
   "version": "3.7.3"
  }
 },
 "nbformat": 4,
 "nbformat_minor": 2
}
