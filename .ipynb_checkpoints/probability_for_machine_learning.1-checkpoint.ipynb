{
 "cells": [
  {
   "cell_type": "markdown",
   "metadata": {},
   "source": [
    "# How many people are required so that any two people in the group have the\n",
    "same birthday with at least a 50-50 chance?"
   ]
  },
  {
   "cell_type": "code",
   "execution_count": 4,
   "metadata": {},
   "outputs": [
    {
     "name": "stdout",
     "output_type": "stream",
     "text": [
      "n=2, 364/365, p=99.726, 1-p=0.274\n",
      "n=3, 363/365, p=99.180, 1-p=0.820\n",
      "n=4, 362/365, p=98.364, 1-p=1.636\n",
      "n=5, 361/365, p=97.286, 1-p=2.714\n",
      "n=6, 360/365, p=95.954, 1-p=4.046\n",
      "n=7, 359/365, p=94.376, 1-p=5.624\n",
      "n=8, 358/365, p=92.566, 1-p=7.434\n",
      "n=9, 357/365, p=90.538, 1-p=9.462\n",
      "n=10, 356/365, p=88.305, 1-p=11.695\n",
      "n=11, 355/365, p=85.886, 1-p=14.114\n",
      "n=12, 354/365, p=83.298, 1-p=16.702\n",
      "n=13, 353/365, p=80.559, 1-p=19.441\n",
      "n=14, 352/365, p=77.690, 1-p=22.310\n",
      "n=15, 351/365, p=74.710, 1-p=25.290\n",
      "n=16, 350/365, p=71.640, 1-p=28.360\n",
      "n=17, 349/365, p=68.499, 1-p=31.501\n",
      "n=18, 348/365, p=65.309, 1-p=34.691\n",
      "n=19, 347/365, p=62.088, 1-p=37.912\n",
      "n=20, 346/365, p=58.856, 1-p=41.144\n",
      "n=21, 345/365, p=55.631, 1-p=44.369\n",
      "n=22, 344/365, p=52.430, 1-p=47.570\n",
      "n=23, 343/365, p=49.270, 1-p=50.730\n",
      "n=24, 342/365, p=46.166, 1-p=53.834\n",
      "n=25, 341/365, p=43.130, 1-p=56.870\n",
      "n=26, 340/365, p=40.176, 1-p=59.824\n",
      "n=27, 339/365, p=37.314, 1-p=62.686\n",
      "n=28, 338/365, p=34.554, 1-p=65.446\n",
      "n=29, 337/365, p=31.903, 1-p=68.097\n",
      "n=30, 336/365, p=29.368, 1-p=70.632\n"
     ]
    }
   ],
   "source": [
    "n = 30            # group size\n",
    "days = 365        # days in a year\n",
    "p = 1.0           # probability of no two persons have same birthday\n",
    "for i in range(1,n):\n",
    "    available_days = days - i\n",
    "    p *= available_days / days\n",
    "    print('n=%d, %d/%d, p=%.3f, 1-p=%.3f' % (i+1, available_days, days, p*100, (1-p)*100))\n",
    "    "
   ]
  },
  {
   "cell_type": "markdown",
   "metadata": {},
   "source": [
    "# Binomial Distribution\n",
    "The repetition of multiple independent Bernoulli trials is called a Bernoulli process. The performance of a machine learning algorithm on a binary classification problem can be analyzed as a Bernoulli process, where the prediction by the model on an example from a test set is a Bernoulli trial (correct or incorrect). The Binomial distribution summarizes the number\n",
    "of successes k in a given number of Bernoulli trials n, with a given probability of success for each trial p."
   ]
  },
  {
   "cell_type": "code",
   "execution_count": 19,
   "metadata": {},
   "outputs": [
    {
     "name": "stdout",
     "output_type": "stream",
     "text": [
      "Total Successes: 29\n"
     ]
    }
   ],
   "source": [
    "from numpy.random import binomial\n",
    "p = 0.3\n",
    "k = 100\n",
    "success = binomial(k, p)\n",
    "print('Total Successes: %d' % success)"
   ]
  },
  {
   "cell_type": "code",
   "execution_count": 27,
   "metadata": {},
   "outputs": [
    {
     "name": "stdout",
     "output_type": "stream",
     "text": [
      "Mean=30.000, Variance=21.000\n"
     ]
    }
   ],
   "source": [
    "#calculating moments\n",
    "from scipy.stats import binom\n",
    "p = 0.3\n",
    "k = 100\n",
    "#mean, var, _, _ = binom.stats(k, p, momemts='mvsk')\n",
    "print('Mean=%.3f, Variance=%.3f' %(mean, var))"
   ]
  },
  {
   "cell_type": "code",
   "execution_count": 28,
   "metadata": {},
   "outputs": [
    {
     "name": "stdout",
     "output_type": "stream",
     "text": [
      "P of 10 success: 0.000%\n",
      "P of 20 success: 0.758%\n",
      "P of 30 success: 8.678%\n",
      "P of 40 success: 0.849%\n",
      "P of 50 success: 0.001%\n",
      "P of 60 success: 0.000%\n",
      "P of 70 success: 0.000%\n",
      "P of 80 success: 0.000%\n",
      "P of 90 success: 0.000%\n"
     ]
    }
   ],
   "source": [
    "#using probability mass function for binomial\n",
    "dist = binom(k, p)\n",
    "for n in range(10, 100, 10):\n",
    "    print('P of %d success: %.3f%%' % (n, dist.pmf(n)*100))\n"
   ]
  },
  {
   "cell_type": "code",
   "execution_count": 29,
   "metadata": {},
   "outputs": [
    {
     "name": "stdout",
     "output_type": "stream",
     "text": [
      "P of 10 or fewer success: 0.000%\n",
      "P of 20 or fewer success: 1.646%\n",
      "P of 30 or fewer success: 54.912%\n",
      "P of 40 or fewer success: 98.750%\n",
      "P of 50 or fewer success: 99.999%\n",
      "P of 60 or fewer success: 100.000%\n",
      "P of 70 or fewer success: 100.000%\n",
      "P of 80 or fewer success: 100.000%\n",
      "P of 90 or fewer success: 100.000%\n"
     ]
    }
   ],
   "source": [
    "# using cumulative distribution function\n",
    "for n in range(10, 100, 10):\n",
    "    print(\"P of %d or fewer success: %.3f%%\" % (n, dist.cdf(n)*100))"
   ]
  },
  {
   "cell_type": "markdown",
   "metadata": {},
   "source": [
    "# Multinomial Distribution\n",
    "The repetition of multiple independent Multinoulli trials will follow a multinomial distribution.\n",
    "The multinomial distribution is a generalization of the binomial distribution for a discrete variable with K outcomes. A common example of the multinomial distribution is the occurrence counts of words in a text document, from the field of natural language processing. A multinomial distribution is summarized by a discrete random variable with K outcomes, a probability for each outcome from p1 to pK, and n successive trials.\n",
    "\n",
    "Discrete probability distributions are used in machine learning, notably in \n",
    "- the modeling of binary and multiclass classification problems, \n",
    "- in evaluating the performance for binary classification models, such as the calculation of confidence intervals, \n",
    "- and in the modeling of the distribution of words in text for natural language processing. \n",
    "\n",
    "Knowledge of discrete probability distributions is required in the choice of activation functions in the output layer of deep learning neural networks for classification tasks and selecting an appropriate loss function.\n",
    "\n",
    "- PMF: Probability Mass Function, returns the probability of a given outcome.\n",
    "- CDF: Cumulative Distribution Function, returns the probability of a value less than or equal to a given outcome.\n",
    "- PPF: Percent-Point Function, returns a discrete value that is less than or equal to the given probability."
   ]
  },
  {
   "cell_type": "markdown",
   "metadata": {},
   "source": [
    "# Binomial distribution\n",
    "The repetition of multiple independent Bernoulli trials is called a Bernoulli process. The outcomes of a Bernoulli process will follow a Binomial distribution. As such, the Bernoulli distribution would be a Binomial distribution with a single trial. \n",
    "\n",
    "Some common examples of\n",
    "Bernoulli processes include:\n",
    "= A sequence of independent coin flips.\n",
    "= A sequence of independent births.\n",
    "\n",
    "The performance of a machine learning algorithm on a binary classification problem can be analyzed as a Bernoulli process, where the prediction by the model on an example from a test set is a Bernoulli trial (correct or incorrect). \n",
    "\n",
    "The Binomial distribution summarizes the number of successes k in a given number of Bernoulli trials n, with a given probability of success for each trial p."
   ]
  },
  {
   "cell_type": "markdown",
   "metadata": {},
   "source": [
    "# Continuous Probability Distributions\n",
    "The normal distribution is also called the Gaussian distribution (named for Carl Friedrich Gauss) or the bell curve distribution. The distribution covers the probability of real-valued events from many different problem domains, making it a common and well-known distribution, hence the name normal.\n",
    "\n",
    "If the samples of observations of a random variable are normally distributed, then they can be summarized by just the mean and variance, calculated directly on the samples. We can calculate the probability of each observation using the probability density function."
   ]
  },
  {
   "cell_type": "code",
   "execution_count": 5,
   "metadata": {},
   "outputs": [
    {
     "data": {
      "text/plain": [
       "array([52.0421453 , 43.61055762, 44.78240965, 45.20543275, 55.90187761,\n",
       "       39.10015381, 43.23200643, 50.28307163, 51.59797677, 41.04996558])"
      ]
     },
     "execution_count": 5,
     "metadata": {},
     "output_type": "execute_result"
    }
   ],
   "source": [
    "# sampling a normal distribution\n",
    "from numpy.random import normal\n",
    "mu = 50\n",
    "sigma = 5\n",
    "n = 10\n",
    "sample = normal(mu, sigma, n)\n",
    "sample"
   ]
  },
  {
   "cell_type": "code",
   "execution_count": 17,
   "metadata": {},
   "outputs": [
    {
     "data": {
      "image/png": "[encoded data removed]",
      "text/plain": [
       "<Figure size 432x288 with 1 Axes>"
      ]
     },
     "metadata": {
      "needs_background": "light"
     },
     "output_type": "display_data"
    },
    {
     "data": {
      "image/png": "[encoded data removed]",
      "text/plain": [
       "<Figure size 432x288 with 1 Axes>"
      ]
     },
     "metadata": {
      "needs_background": "light"
     },
     "output_type": "display_data"
    }
   ],
   "source": [
    "# pdf and cdf of norma; distribution\n",
    "from scipy.stats import norm\n",
    "from matplotlib import pyplot\n",
    "dist = norm(mu, sigma)\n",
    "values = [value for value in range(30,70, 1)]\n",
    "probs = [dist.pdf(value) for value in values]\n",
    "pyplot.plot(values, probs)\n",
    "pyplot.show()\n",
    "#cdf\n",
    "cprobs = [dist.cdf(value) for value in values]\n",
    "pyplot.plot(values, cprobs)\n",
    "pyplot.show()\n"
   ]
  },
  {
   "cell_type": "markdown",
   "metadata": {},
   "source": [
    "# Normal distribution heuristic \n",
    "The percentage of data covered by a given range by the number of standard deviations from the mean. It is called the 68-95-99.7 rule, which is the approximate percentage of the data covered by ranges defined by 1, 2, and 3 standard deviations from the mean. \n",
    "For example, in 50, 5 distribution, 95% of the data is covered by values that are 2 standard deviations from the mean, or 50 - (2*5) and 50+(2*5) or between 40 and 60. "
   ]
  },
  {
   "cell_type": "code",
   "execution_count": 22,
   "metadata": {},
   "outputs": [
    {
     "name": "stdout",
     "output_type": "stream",
     "text": [
      "Middle 95% between 40.2 and 59.8\n"
     ]
    }
   ],
   "source": [
    "# calculating the middle 95% range\n",
    "from scipy.stats import norm\n",
    "mu = 50\n",
    "sigma = 5\n",
    "dist = norm(mu, sigma)\n",
    "low_end = dist.ppf(0.025)\n",
    "high_end = dist.ppf(0.975)\n",
    "print('Middle 95%% between %.1f and %.1f' % (low_end, high_end))"
   ]
  },
  {
   "cell_type": "markdown",
   "metadata": {},
   "source": [
    "# Exponential distribution\n",
    "Few outcomes are the most likely with a rapid decrease in probability to all other outcomes. \n",
    "It is the continuous random variable equivalent to the geometric probability distribution for discrete random variables.\n",
    "Some examples of domains that have exponential distribution events include:\n",
    " The time between clicks on a Geiger counter.\n",
    " The time until the failure of a part.\n",
    " The time until the default of a loan.\n",
    "\n",
    "The distribution can be defined using one parameter: Scale (Beta): The mean and standard deviation of the distribution.\n",
    "fiSometimes the distribution is defined more formally with a parameter lambda or rate. The beta parameter is dened as the reciprocal of the lambda parameter \n",
    "-  Rate (lambda) = Rate of change in the distribution."
   ]
  },
  {
   "cell_type": "code",
   "execution_count": 25,
   "metadata": {},
   "outputs": [
    {
     "data": {
      "text/plain": [
       "array([  4.37191259, 116.2587923 ,   9.64877871, 162.88877828,\n",
       "       152.41958384,  64.85841584,   7.70475737,   4.31382852,\n",
       "        36.93246519,   6.36422018])"
      ]
     },
     "execution_count": 25,
     "metadata": {},
     "output_type": "execute_result"
    }
   ],
   "source": [
    "# sampling exponential distribution\n",
    "from numpy.random import exponential\n",
    "beta = 50\n",
    "n = 10\n",
    "sample = exponential(beta, n)\n",
    "sample"
   ]
  },
  {
   "cell_type": "code",
   "execution_count": 29,
   "metadata": {},
   "outputs": [
    {
     "data": {
      "image/png": "[encoded data removed]",
      "text/plain": [
       "<Figure size 432x288 with 1 Axes>"
      ]
     },
     "metadata": {
      "needs_background": "light"
     },
     "output_type": "display_data"
    },
    {
     "data": {
      "image/png": "[encoded data removed]",
      "text/plain": [
       "<Figure size 432x288 with 1 Axes>"
      ]
     },
     "metadata": {
      "needs_background": "light"
     },
     "output_type": "display_data"
    }
   ],
   "source": [
    "# pdf and cdf of exponential distribution\n",
    "from scipy.stats import expon\n",
    "from matplotlib import pyplot\n",
    "beta = 50\n",
    "dist = expon(beta)\n",
    "# plotting pdf\n",
    "values = [value for value in range(50, 70)]\n",
    "probs = [dist.pdf(value) for value in values]\n",
    "pyplot.plot(values, probs)\n",
    "pyplot.show()\n",
    "# plotting cdf\n",
    "cprobs = [dist.cdf(value) for value in values]\n",
    "pyplot.plot(values, cprobs)\n",
    "pyplot.show()"
   ]
  },
  {
   "cell_type": "markdown",
   "metadata": {},
   "source": [
    "# Pareto distribution\n",
    "Named after Vilfredo Pareto also knows as power-law distribution. \n",
    "Pareto principle (or 80/20 rule) which is a heuristic where 80% of the events are covered by 20% of the range of outcomes. \n",
    "The Pareto principle is just a heuristic for a specific Pareto distribution, specifically the Pareto Type II distribution. \n",
    "Some examples \n",
    "- The income of households in a country.\n",
    "- The total sales of books.\n",
    "- The scores by players on a sports team.\n",
    "\n",
    "The distribution can be defned using one parameter:  Shape (alpha): The steepness of the decease in probability.\n",
    "Values for the shape parameter are often small, such as between 1 and 3. "
   ]
  },
  {
   "cell_type": "code",
   "execution_count": 30,
   "metadata": {},
   "outputs": [],
   "source": [
    "#sample a pareto distriution"
   ]
  },
  {
   "cell_type": "code",
   "execution_count": 31,
   "metadata": {},
   "outputs": [],
   "source": [
    "# pdf and cdf of pareto distribution"
   ]
  },
  {
   "cell_type": "code",
   "execution_count": null,
   "metadata": {},
   "outputs": [],
   "source": []
  }
 ],
 "metadata": {
  "kernelspec": {
   "display_name": "Python 3",
   "language": "python",
   "name": "python3"
  },
  "language_info": {
   "codemirror_mode": {
    "name": "ipython",
    "version": 3
   },
   "file_extension": ".py",
   "mimetype": "text/x-python",
   "name": "python",
   "nbconvert_exporter": "python",
   "pygments_lexer": "ipython3",
   "version": "3.7.3"
  }
 },
 "nbformat": 4,
 "nbformat_minor": 2
}
